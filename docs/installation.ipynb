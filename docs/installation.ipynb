{
 "cells": [
  {
   "cell_type": "markdown",
   "metadata": {
    "tags": []
   },
   "source": [
    "# Installation"
   ]
  },
  {
   "cell_type": "markdown",
   "metadata": {
    "tags": []
   },
   "source": [
    "**Reflectorch** can be installed directly from the Python Packaging Index (PyPI) via the Python package installer **pip** or from the [conda-forge](https://anaconda.org/conda-forge/reflectorch) channel via the **conda** package installer. "
   ]
  },
  {
   "cell_type": "markdown",
   "metadata": {},
   "source": [
    "```bash\n",
    "pip install reflectorch\n",
    "```"
   ]
  },
  {
   "cell_type": "markdown",
   "metadata": {},
   "source": [
    "or"
   ]
  },
  {
   "cell_type": "markdown",
   "metadata": {},
   "source": [
    "```bash\n",
    "conda install -c conda-forge reflectorch\n",
    "```"
   ]
  },
  {
   "cell_type": "markdown",
   "metadata": {},
   "source": [
    "Additionally, one can clone the entire [Github](https://github.com/schreiber-lab/reflectorch) repository and install the package in editable mode:"
   ]
  },
  {
   "cell_type": "markdown",
   "metadata": {
    "tags": []
   },
   "source": [
    "```bash\n",
    "git clone https://github.com/schreiber-lab/reflectorch.git\n",
    "pip install -e .\n",
    "```\n"
   ]
  },
  {
   "cell_type": "markdown",
   "metadata": {
    "tags": []
   },
   "source": [
    "For development purposes, the package can be installed together with the optional dependencies for building the distribution, testing and documentation:"
   ]
  },
  {
   "cell_type": "markdown",
   "metadata": {},
   "source": [
    "```bash\n",
    "git clone https://github.com/schreiber-lab/reflectorch.git\n",
    "pip install -e .[tests,docs,build]\n",
    "```"
   ]
  },
  {
   "cell_type": "markdown",
   "metadata": {},
   "source": [
    "# GPU support"
   ]
  },
  {
   "cell_type": "markdown",
   "metadata": {},
   "source": [
    "The CPU version of Pytorch is installed automatically with the package. Users with Nvidia GPUs need to additionally install Pytorch with CUDA support\n",
    "corresponding to their hardware and operating system according to the official installation guide from the [Pytorch website](https://pytorch.org/get-started/locally/)."
   ]
  },
  {
   "cell_type": "markdown",
   "metadata": {
    "tags": []
   },
   "source": [
    "# Package dependencies"
   ]
  },
  {
   "cell_type": "markdown",
   "metadata": {},
   "source": [
    "The package was tested for Python versions which are 3.7 or newer. The package has the following core dependencies, which are listed in `pyproject.toml` and installed automatically together with the package.\n",
    "\n",
    " - numpy\n",
    " - torch\n",
    " - scipy\n",
    " - tqdm\n",
    " - PyYAML\n",
    " - click\n",
    " - matplotlib\n",
    " - ipywidgets"
   ]
  }
 ],
 "metadata": {
  "kernelspec": {
   "display_name": "Python 3",
   "language": "python",
   "name": "python3"
  },
  "language_info": {
   "codemirror_mode": {
    "name": "ipython",
    "version": 3
   },
   "file_extension": ".py",
   "mimetype": "text/x-python",
   "name": "python",
   "nbconvert_exporter": "python",
   "pygments_lexer": "ipython3",
   "version": "3.7.6"
  },
  "widgets": {
   "application/vnd.jupyter.widget-state+json": {
    "state": {},
    "version_major": 2,
    "version_minor": 0
   }
  }
 },
 "nbformat": 4,
 "nbformat_minor": 4
}
