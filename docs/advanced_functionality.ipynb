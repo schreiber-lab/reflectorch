{
 "cells": [
  {
   "cell_type": "markdown",
   "metadata": {},
   "source": [
    "# Advanced functionality\n"
   ]
  },
  {
   "cell_type": "code",
   "execution_count": 1,
   "metadata": {
    "tags": []
   },
   "outputs": [],
   "source": [
    "import numpy as np\n",
    "import torch\n",
    "import matplotlib.pyplot as plt\n",
    "from ipywidgets import interact\n",
    "\n",
    "from reflectorch import *\n",
    "from reflectorch.extensions.jupyter import JPlotLoss\n",
    "\n",
    "torch.manual_seed(0); # set seed for reproducibility"
   ]
  },
  {
   "cell_type": "markdown",
   "metadata": {},
   "source": [
    "## Model with absorption"
   ]
  },
  {
   "cell_type": "markdown",
   "metadata": {},
   "source": [
    "The default box model parameterization of the SLD profile presented in the previous sections takes into account only the real part of the SLD profile but neglects the imaginary part of the SLD which is related to the absorption of the scattering medium. While this is a reasonable approximation in many use cases, in `reflectorch` we are able to alter the parameterization of the SLD profile as to also incorporate the constant imaginary SLD value of each layer."
   ]
  },
  {
   "cell_type": "markdown",
   "metadata": {},
   "source": [
    "We can initialize a reflectorch model with absorption by making the following changes to the YAML configuration file:"
   ]
  },
  {
   "cell_type": "markdown",
   "metadata": {},
   "source": [
    " 1. Firstly, we set the `model_name` argument of the prior sampler to `model_with_absorption` instead of `standard_model`. In addition, the parameter range and bound width range of the imaginary layer SLDs (`islds`) must be specified. If `constrained_isld` is set to `true`, the imaginary part of the SLD is constrained to not exceed a predefined fraction `max_sld_share` of the real part of the SLD (**Note**: `constrained_roughness` must also be `true`)."
   ]
  },
  {
   "cell_type": "markdown",
   "metadata": {
    "tags": []
   },
   "source": [
    "```{code-block} yaml\n",
    ":emphasize-lines: 9,14,15,18,20\n",
    "\n",
    "dset:\n",
    "  prior_sampler:\n",
    "    cls: SubpriorParametricSampler\n",
    "    kwargs:\n",
    "      param_ranges:\n",
    "        thicknesses: [0., 300.]\n",
    "        roughnesses: [0., 20.]\n",
    "        slds: [0., 50.]\n",
    "        islds: [0., 5.]\n",
    "      bound_width_ranges:\n",
    "        thicknesses: [ 1.0e-2, 300.]\n",
    "        roughnesses: [ 1.0e-2, 20.]\n",
    "        slds: [ 1.0e-2, 10.]\n",
    "        islds: [ 1.0e-2, 5.]\n",
    "      model_name: model_with_absorption\n",
    "      max_num_layers: 2\n",
    "      constrained_roughness: true\n",
    "      constrained_isld: true\n",
    "      max_thickness_share: 0.5\n",
    "      max_sld_share: 0.2\n",
    "      logdist: false\n",
    "```"
   ]
  },
  {
   "cell_type": "markdown",
   "metadata": {},
   "source": [
    "2. For the 2-layer box model parameterization of the SLD profile without absorption, the neural network had to predict 8 values (2 thicknesses, 3 roughnesses, 3 real layer SLDs). When absorption is considered, we have 3 additional output values (the imaginary layer SLDs), summing up to a total of 11. The computation for a higher number of layers is analogous. Thus the neural network architecture must also reflect theses changes in the input and output dimensionalities: in this example the `dim_out` argument is set to 11."
   ]
  },
  {
   "cell_type": "markdown",
   "metadata": {},
   "source": [
    "```{code-block} yaml\n",
    ":emphasize-lines: 12\n",
    "\n",
    "model:\n",
    "  encoder:\n",
    "    cls: PriorInformedNetworkConvEmb\n",
    "    pretrained_name: null\n",
    "    kwargs:\n",
    "      in_channels: 1\n",
    "      hidden_channels: [32, 64, 128, 256, 512]\n",
    "      dim_embedding: 128\n",
    "      dim_avpool: 1\n",
    "      embedding_net_activation: 'gelu'\n",
    "      use_batch_norm: true\n",
    "      dim_out: 11\n",
    "      layer_width: 512\n",
    "      num_blocks: 6\n",
    "      repeats_per_block: 2\n",
    "      mlp_activation: 'gelu'\n",
    "      dropout_rate: 0.0 \n",
    "      pretrained_embedding_net: null\n",
    "```"
   ]
  },
  {
   "cell_type": "markdown",
   "metadata": {},
   "source": [
    "We initialize a model with absorption from a suitable configuration file."
   ]
  },
  {
   "cell_type": "code",
   "execution_count": 13,
   "metadata": {
    "tags": []
   },
   "outputs": [
    {
     "name": "stdout",
     "output_type": "stream",
     "text": [
      "Model c_absorption loaded. Number of parameters: 3.84 M\n"
     ]
    }
   ],
   "source": [
    "trainer = get_trainer_by_name(config_name='c_absorption', load_weights=False)"
   ]
  },
  {
   "cell_type": "markdown",
   "metadata": {},
   "source": [
    "We observe that the parametric model is `ModelWithAbsorption` and the sampler strategy is `ConstrainedRoughnessAndImgSldSamplerStrategy`"
   ]
  },
  {
   "cell_type": "code",
   "execution_count": 14,
   "metadata": {},
   "outputs": [
    {
     "data": {
      "text/plain": [
       "('model_with_absorption',\n",
       " <reflectorch.data_generation.priors.parametric_models.ModelWithAbsorption at 0x1d08830bf10>,\n",
       " <reflectorch.data_generation.priors.sampler_strategies.ConstrainedRoughnessAndImgSldSamplerStrategy at 0x1d088314730>)"
      ]
     },
     "execution_count": 14,
     "metadata": {},
     "output_type": "execute_result"
    }
   ],
   "source": [
    "trainer.loader.prior_sampler.model_name, trainer.loader.prior_sampler.param_model, trainer.loader.prior_sampler.param_model.sampler_strategy"
   ]
  },
  {
   "cell_type": "code",
   "execution_count": 15,
   "metadata": {
    "tags": []
   },
   "outputs": [
    {
     "name": "stdout",
     "output_type": "stream",
     "text": [
      "Number of layers: 2,  Number of film parameters: 11\n",
      "SLD data type: torch.complex128\n",
      "Img slds properly constrained with respect to real slds: True\n"
     ]
    }
   ],
   "source": [
    "batch_size = 64\n",
    "simulated_data = trainer.loader.get_batch(batch_size)\n",
    "\n",
    "n_layers = simulated_data['params'].max_layer_num\n",
    "n_params = simulated_data['params'].num_params\n",
    "\n",
    "print(f'Number of layers: {n_layers},  Number of film parameters: {n_params}')\n",
    "print('SLD data type: ' + str(simulated_data['params'].slds.dtype))\n",
    "print('Img slds properly constrained with respect to real slds: ' + str(torch._is_all_true(simulated_data['params'].slds.imag < 0.2*simulated_data['params'].slds.real).item()))"
   ]
  },
  {
   "cell_type": "markdown",
   "metadata": {},
   "source": [
    "We observe that the `slds` tensor is of complex type now. The absorption leads to the rounding of the total reflection edge and the smoothing-off of oscillations of the reflectivity curve."
   ]
  },
  {
   "cell_type": "code",
   "execution_count": 5,
   "metadata": {
    "tags": [
     "hide-input"
    ]
   },
   "outputs": [
    {
     "data": {
      "image/png": "[encoded data removed]",
      "text/plain": [
       "<Figure size 1200x600 with 2 Axes>"
      ]
     },
     "metadata": {},
     "output_type": "display_data"
    }
   ],
   "source": [
    "q = to_np(simulated_data['q_values'])[0]\n",
    "scaled_noisy_curves = simulated_data['scaled_noisy_curves']\n",
    "\n",
    "fig, ax = plt.subplots(1,2,figsize=(12,6))\n",
    "ax[0].set_ylim(-1.1, 1.1)\n",
    "ax[0].set_xlabel('q [$Å^{-1}$]', fontsize=18)\n",
    "ax[0].set_ylabel('R$_{scaled}$ (q)', fontsize=18)\n",
    "ax[0].tick_params(axis='both', which='major', labelsize=14)\n",
    "\n",
    "i = 0\n",
    "ax[0].scatter(q, to_np(scaled_noisy_curves[i]), c='blue', s=2.0);\n",
    "\n",
    "z_axis = torch.linspace(-200, 1000, 1000, device='cuda')\n",
    "_, sld_profile_real, _ = get_density_profiles(\n",
    "    simulated_data['params'].thicknesses, \n",
    "    simulated_data['params'].roughnesses,\n",
    "    simulated_data['params'].slds.real,\n",
    "    z_axis)\n",
    "_, sld_profile_imag, _ = get_density_profiles(\n",
    "    simulated_data['params'].thicknesses, \n",
    "    simulated_data['params'].roughnesses,\n",
    "    simulated_data['params'].slds.imag,\n",
    "    z_axis)\n",
    "\n",
    "ax[1].plot(to_np(z_axis), to_np(sld_profile_real[i]), c='cyan', label='Re(SLD)')\n",
    "ax[1].plot(to_np(z_axis), to_np(sld_profile_imag[i]), c='violet', label='Im(SLD)')\n",
    "ax[1].set_xlabel('z [$Å$]', fontsize=20)\n",
    "ax[1].set_ylabel('SLD [$10^{-6} Å^{-2}$]', fontsize=20)\n",
    "ax[1].tick_params(axis='both', which='major', labelsize=15)\n",
    "ax[1].tick_params(axis='both', which='minor', labelsize=15)\n",
    "ax[1].legend()\n",
    "\n",
    "plt.tight_layout()"
   ]
  },
  {
   "cell_type": "markdown",
   "metadata": {},
   "source": [
    "## Alternative parameterizations of the SLD profile\n",
    "\n",
    "In this section we describe alternative parameterizations of the SLD profile implementated in `reflectorch` (i.e. other than the standard box model parameterization)"
   ]
  },
  {
   "cell_type": "markdown",
   "metadata": {},
   "source": [
    "### Periodically repeating multilayer"
   ]
  },
  {
   "cell_type": "markdown",
   "metadata": {},
   "source": [
    "This SLD parameterization addresses the following commonly encountered scenario for thin films. On top of a silicon/silicon oxide substrate we consider a thin film composed of repeating identical monolayers (grey curve in the figure), each monolayer consisting of two boxes with distinct SLDs. A sigmoid envelope modulating the SLD profile of the monolayers defines the film thickness and the roughness at the top interface (green curve in the figure). A second sigmoid envelope can be used to modulate the amplitude of the monolayer SLDs as a function of the displacement from the position\n",
    "of the first sigmoid (red curve in the figure). These two sigmoids allow one to model a thin film that is coherently ordered up to a certain coherent thickness and gets incoherently ordered or amorphous toward the top of the film. In addition, a layer between the substrate and the multilayer (i.e. ”phase layer”) is introduced to account for the interface structure, which does not necessarily have to be identical to the multilayer period."
   ]
  },
  {
   "cell_type": "markdown",
   "metadata": {},
   "source": [
    "```{figure} sketch_multilayer_0.png\n",
    ":scale: 50\n",
    ":align: center\n",
    ":name: figure_multilayer\n",
    "SLD parameterization of a periodically repeating multilayer\n",
    "```"
   ]
  },
  {
   "cell_type": "markdown",
   "metadata": {},
   "source": [
    "This parameterization is described by 17 film parameters, their physical description together with their corresponding alias in the YAML configuration file being shown in the following table:"
   ]
  },
  {
   "cell_type": "markdown",
   "metadata": {
    "tags": []
   },
   "source": [
    "| **Parameter description** | **Parameter alias in the configuration file** |\n",
    "|---------------|---------------------|\n",
    "| monolayer thickness (i.e. two boxes stacked together) | d_block |\n",
    "| relative roughness of the monolayer interfaces (wrt. the monolayer thickness) | s_block_rel |\n",
    "| SLD of the first box in the monolayer | r_block |\n",
    "| SLD difference between the second and the first box in the monolayer | dr |\n",
    "| fraction of the monolayer thickness belonging to the first box | d_block1_rel |\n",
    "| roughness of the silicon substrate | s_si |\n",
    "| SLD of the silicon substrate | r_si |\n",
    "| thickness of the silicon oxide layer | d_sio2 |\n",
    "| roughness of the silicon oxide layer | s_sio2 |\n",
    "| SLD of the silicon oxide layer | r_sio2 |\n",
    "| SLD of the phase layer | r3 |\n",
    "| relative thickness of the phase layer (wrt. the monolayer thickness) | d3_rel |\n",
    "| relative roughness of the phase layer (wrt. the monolayer thickness) | s3_rel |\n",
    "| relative position of the first sigmoid (i.e. total film thickness) | d_full_rel |\n",
    "| relative width of the first sigmoid | rel_sigmas |\n",
    "| relative position of the second sigmoid (coherently ordered film thickness) | dr_sigmoid_rel_pos |\n",
    "| relative width of the second sigmoid | dr_sigmoid_rel_width |"
   ]
  },
  {
   "cell_type": "markdown",
   "metadata": {},
   "source": [
    "We can initialize a reflectorch model which uses this type of SLD parameterization by making the following changes to the YAML configuration file:"
   ]
  },
  {
   "cell_type": "markdown",
   "metadata": {},
   "source": [
    " 1. Firstly, we set the `model_name` argument of the prior sampler to `model3` (--to be renamed--) instead of `standard_model`, and the `max_num_layers` argument to a high value (such as 30). In addition,the parameter ranges and bound width ranges for the 17 multilayer parameters must be specified (the above table shows the correspondance between the physical parameters and the corresponding YAML subkeys). "
   ]
  },
  {
   "cell_type": "markdown",
   "metadata": {
    "tags": []
   },
   "source": [
    "```{code-block} yaml\n",
    ":emphasize-lines: 41, 42\n",
    "\n",
    "dset:\n",
    "  prior_sampler:\n",
    "    cls: SubpriorParametricSampler\n",
    "    kwargs:\n",
    "      param_ranges:\n",
    "          d_full_rel: [0, 25]\n",
    "          rel_sigmas: [0, 5]\n",
    "          dr_sigmoid_rel_pos: [-10, 10]\n",
    "          dr_sigmoid_rel_width: [0, 20]\n",
    "          d_block1_rel: [0.01, 0.99]\n",
    "          d_block: [10, 20]\n",
    "          s_block_rel: [0., 0.3]\n",
    "          r_block: [0., 20.] \n",
    "          dr: [-10., 10.]\n",
    "          d3_rel: [0, 1] \n",
    "          s3_rel: [0, 1] \n",
    "          r3: [0., 25] \n",
    "          d_sio2: [0, 10] \n",
    "          s_sio2: [0, 10] \n",
    "          s_si: [0., 10] \n",
    "          r_sio2: [17., 19.]\n",
    "          r_si: [19., 21.]\n",
    "      bound_width_ranges:\n",
    "          d_full_rel: [0.1, 25]\n",
    "          rel_sigmas: [0.1, 5]\n",
    "          dr_sigmoid_rel_pos: [0.1, 20]\n",
    "          dr_sigmoid_rel_width: [0.1, 20]\n",
    "          d_block1_rel: [0.01, 1.0]\n",
    "          d_block: [0.1, 10.]\n",
    "          s_block_rel: [0.1, 0.3]\n",
    "          r_block: [0.1, 5.]\n",
    "          dr: [0.1, 5.]\n",
    "          d3_rel: [0.01, 1]\n",
    "          s3_rel: [0.01, 1]\n",
    "          r3: [0.01, 25]\n",
    "          d_sio2: [0.01, 10]\n",
    "          s_sio2: [0.01, 10]\n",
    "          s_si: [0.01, 10]\n",
    "          r_sio2: [0.01, 2]\n",
    "          r_si: [0.01, 2]\n",
    "      model_name: model3\n",
    "      max_num_layers: 30\n",
    "      logdist: false\n",
    "```"
   ]
  },
  {
   "cell_type": "markdown",
   "metadata": {},
   "source": [
    "2. The neural network architecture must be set up such that the `dim_out` argument (i.e. the output dimension) is set to the number of predicted parameters which in this case is 17."
   ]
  },
  {
   "cell_type": "markdown",
   "metadata": {
    "tags": []
   },
   "source": [
    "```{code-block} yaml\n",
    ":emphasize-lines: 12\n",
    "\n",
    "model:\n",
    "  encoder:\n",
    "    cls: PriorInformedNetworkConvEmb\n",
    "    pretrained_name: null\n",
    "    kwargs:\n",
    "      in_channels: 1\n",
    "      hidden_channels: [32, 64, 128, 256, 512]\n",
    "      dim_embedding: 128\n",
    "      dim_avpool: 1\n",
    "      embedding_net_activation: 'gelu'\n",
    "      use_batch_norm: true\n",
    "      dim_out: 17\n",
    "      layer_width: 512\n",
    "      num_blocks: 6\n",
    "      repeats_per_block: 2\n",
    "      mlp_activation: 'gelu'\n",
    "      dropout_rate: 0.0 \n",
    "      pretrained_embedding_net: null\n",
    "```"
   ]
  },
  {
   "cell_type": "markdown",
   "metadata": {},
   "source": [
    "<!-- ```{figure} fig_reflectometry_embedding_networks.png\n",
    ":scale: 25 %\n",
    ":align: center\n",
    ":name: embedding_networks\n",
    "Embedding Networks\n",
    "``` -->"
   ]
  },
  {
   "cell_type": "markdown",
   "metadata": {},
   "source": [
    "We initialize a model with absorption from a suitable configuration file. Here we use an extended q range, up to 0.5 Å$^{-1}$."
   ]
  },
  {
   "cell_type": "code",
   "execution_count": 6,
   "metadata": {},
   "outputs": [
    {
     "name": "stdout",
     "output_type": "stream",
     "text": [
      "Model c_repeating_multilayer loaded. Number of parameters: 3.85 M\n"
     ]
    }
   ],
   "source": [
    "trainer = get_trainer_by_name(config_name='c_repeating_multilayer', load_weights=False)"
   ]
  },
  {
   "cell_type": "code",
   "execution_count": 7,
   "metadata": {
    "tags": [
     "hide-input"
    ]
   },
   "outputs": [
    {
     "name": "stdout",
     "output_type": "stream",
     "text": [
      "Max number of layers: 30,  Number of film parameters: 17\n"
     ]
    }
   ],
   "source": [
    "simulated_data = trainer.loader.get_batch(batch_size=64)\n",
    "\n",
    "n_layers = simulated_data['params'].max_layer_num\n",
    "n_params = simulated_data['params'].num_params\n",
    "\n",
    "print(f'Max number of layers: {n_layers},  Number of film parameters: {n_params}')"
   ]
  },
  {
   "cell_type": "code",
   "execution_count": 8,
   "metadata": {
    "tags": [
     "hide-input"
    ]
   },
   "outputs": [
    {
     "data": {
      "image/png": "[encoded data removed]",
      "text/plain": [
       "<Figure size 1200x600 with 2 Axes>"
      ]
     },
     "metadata": {},
     "output_type": "display_data"
    }
   ],
   "source": [
    "q = to_np(simulated_data['q_values'])[0]\n",
    "scaled_noisy_curves = simulated_data['scaled_noisy_curves']\n",
    "\n",
    "i = 3\n",
    "\n",
    "fig, ax = plt.subplots(1,2,figsize=(12,6))\n",
    "ax[0].set_ylim(-1.1, 1.1)\n",
    "ax[0].set_xlabel('q [$Å^{-1}$]', fontsize=18)\n",
    "ax[0].set_ylabel('R$_{scaled}$ (q)', fontsize=18)\n",
    "ax[0].tick_params(axis='both', which='major', labelsize=14)\n",
    "    \n",
    "ax[0].scatter(q, to_np(scaled_noisy_curves[i]), c='blue', s=2.0);\n",
    "\n",
    "z_axis = torch.linspace(-200, 1000, 1000, device='cuda')\n",
    "_, sld_profile, _ = get_density_profiles(\n",
    "    simulated_data['params'].thicknesses, \n",
    "    simulated_data['params'].roughnesses,\n",
    "    simulated_data['params'].slds,\n",
    "    z_axis)\n",
    "    \n",
    "ax[1].plot(z_axis.cpu().numpy(), to_np(sld_profile[i]), c='b', label='ground truth')\n",
    "\n",
    "ax[1].set_xlabel('z [$Å$]', fontsize=20)\n",
    "ax[1].set_ylabel('SLD [$10^{-6} Å^{-2}$]', fontsize=20)\n",
    "ax[1].tick_params(axis='both', which='major', labelsize=15)\n",
    "ax[1].tick_params(axis='both', which='minor', labelsize=15)\n",
    "\n",
    "plt.tight_layout()"
   ]
  },
  {
   "cell_type": "markdown",
   "metadata": {},
   "source": [
    "## Using different embedding networks"
   ]
  },
  {
   "cell_type": "markdown",
   "metadata": {},
   "source": [
    "Embedding networks have the role of processing the reflectivity curves, producing a latent representation which is fed together with the prior bounds to the main fully-connected (MLP) network in order to obtain the predictions. The default embedding network is the 1D CNN which works on reflectivity curves with fixed discretization (fixed q range and number of points in the curves). The arguments of the 1D CNN embedding network have been already explained in the previous section."
   ]
  },
  {
   "cell_type": "markdown",
   "metadata": {},
   "source": [
    "```{figure} fig_reflectometry_embedding_networks.png\n",
    ":scale: 25\n",
    ":align: center\n",
    ":name: figure_embedding_networks\n",
    "Embedding networks\n",
    "```"
   ]
  },
  {
   "cell_type": "markdown",
   "metadata": {},
   "source": [
    "Alternatively, we can use an embedding network inspired by the Fourier Neural Operator (FNO) architecture. In this scenario the reflectivity curves together with their respective q-values are input to the embedding network. It allows us to train the model on reflectivity curves with variable discretizations (variable q ranges and numbers of points in the curves). Notably, due to the limitations of the fast fourier transform, the q points should still be equidistant. "
   ]
  },
  {
   "cell_type": "markdown",
   "metadata": {},
   "source": [
    "We can initialize a reflectorch model which uses the FNO-based embedding network by making the following changes to the YAML configuration file:"
   ]
  },
  {
   "cell_type": "markdown",
   "metadata": {},
   "source": [
    " 1. Firstly, the `q_generator` has to be changed to `VariableQ` instead of `ConstantQ`. Its arguments are:\n",
    " - `q_min_range` - the range for sampling the minimum q value of the curves, *q_min*\n",
    " - `q_max_range` - the range for sampling the maximum q value of the curves, *q_max*\n",
    " - `n_q_range` - the range for the number of points in the curves (equidistantly sampled between *q_min* and *q_max*, the number of points varies between batches but is constant within a batch)"
   ]
  },
  {
   "cell_type": "markdown",
   "metadata": {},
   "source": [
    "```{code-block} yaml\n",
    ":emphasize-lines: 3, 5, 6, 7\n",
    "dset:     \n",
    "  q_generator:\n",
    "    cls: VariableQ\n",
    "    kwargs:\n",
    "      q_min_range: [0.01, 0.03]\n",
    "      q_max_range: [0.15, 0.3]\n",
    "      n_q_range: [64, 256]\n",
    "```"
   ]
  },
  {
   "cell_type": "markdown",
   "metadata": {},
   "source": [
    " 2. The network architecture is changed to be an instance of the `PriorInformedNetworkFnoEmb` class, which has the following keyword arguments:\n",
    "\n",
    "- `in_channels` - the number of input channels to the FNO-based embedding network  (should be 2: (R(q), q))\n",
    "- `dim_embedding` - the dimension of the embedding produced by the FNO\n",
    "- `width_fno` - the number of channels in the FNO blocks\n",
    "- `n_fno_blocks`- the number of FNO blocks\n",
    "- `modes` - the number of Fourier modes that are utilized\n",
    "- `embedding_net_activation` - the type of activation function in the embedding network\n",
    "- `use_batch_norm` - whether to use batch normalization (only in the MLP)\n",
    "\n",
    "The other keyword arguments are the same as for the `PriorInformedNetworkConvEmb` class.\n"
   ]
  },
  {
   "cell_type": "markdown",
   "metadata": {},
   "source": [
    "```{code-block} yaml\n",
    ":emphasize-lines: 3, 6, 8, 9, 10\n",
    "\n",
    "model:\n",
    "  encoder:\n",
    "    cls: PriorInformedNetworkFnoEmb\n",
    "    pretrained_name: null\n",
    "    kwargs:\n",
    "      in_channels: 2\n",
    "      dim_embedding: 256\n",
    "      width_fno: 128\n",
    "      n_fno_blocks : 6\n",
    "      modes: 32\n",
    "      embedding_net_activation: 'gelu'\n",
    "      use_batch_norm: True\n",
    "      dim_out: 8\n",
    "      layer_width: 512\n",
    "      num_blocks: 6\n",
    "      repeats_per_block: 2\n",
    "      mlp_activation: 'gelu'\n",
    "      dropout_rate: 0.0 \n",
    "```"
   ]
  },
  {
   "cell_type": "markdown",
   "metadata": {},
   "source": [
    "3. The `train_with_q_input` subkey of the `training` key must be set to `True`. Enabling gradient clipping (`clip_grad_norm_max`) is also recommended."
   ]
  },
  {
   "cell_type": "markdown",
   "metadata": {},
   "source": [
    "```{code-block} yaml\n",
    ":emphasize-lines: 6, 7\n",
    "\n",
    "training:\n",
    "  num_iterations: 10000\n",
    "  batch_size: 1024\n",
    "  lr: 1.0e-4\n",
    "  grad_accumulation_steps: 1\n",
    "  clip_grad_norm_max: 1.0\n",
    "  train_with_q_input: True\n",
    "```"
   ]
  },
  {
   "cell_type": "markdown",
   "metadata": {},
   "source": [
    "We initialize a model having a FNO-based embedding network from a suitable configuration file:"
   ]
  },
  {
   "cell_type": "code",
   "execution_count": 9,
   "metadata": {},
   "outputs": [
    {
     "name": "stdout",
     "output_type": "stream",
     "text": [
      "Model c_fno loaded. Number of parameters: 6.59 M\n"
     ]
    }
   ],
   "source": [
    "trainer = get_trainer_by_name(config_name='c_fno', load_weights=False)"
   ]
  },
  {
   "cell_type": "code",
   "execution_count": 10,
   "metadata": {
    "tags": []
   },
   "outputs": [
    {
     "data": {
      "text/plain": [
       "PriorInformedNetworkFnoEmb(\n",
       "  (embedding_net): FnoEncoder(\n",
       "    (activation): GELU(approximate='none')\n",
       "    (fc0): Linear(in_features=2, out_features=128, bias=True)\n",
       "    (spectral_convs): ModuleList(\n",
       "      (0-5): 6 x SpectralConv1d()\n",
       "    )\n",
       "    (w_convs): ModuleList(\n",
       "      (0-5): 6 x Conv1d(128, 128, kernel_size=(1,), stride=(1,))\n",
       "    )\n",
       "    (fc_out): Linear(in_features=128, out_features=256, bias=True)\n",
       "  )\n",
       "  (mlp): ResidualMLP(\n",
       "    (first_layer): Linear(in_features=272, out_features=512, bias=True)\n",
       "    (blocks): ModuleList(\n",
       "      (0-5): 6 x ResidualBlock(\n",
       "        (activation): GELU(approximate='none')\n",
       "        (batch_norm_layers): ModuleList(\n",
       "          (0-1): 2 x BatchNorm1d(512, eps=0.001, momentum=0.1, affine=True, track_running_stats=True)\n",
       "        )\n",
       "        (linear_layers): ModuleList(\n",
       "          (0-1): 2 x Linear(in_features=512, out_features=512, bias=True)\n",
       "        )\n",
       "      )\n",
       "    )\n",
       "    (last_layer): Linear(in_features=512, out_features=8, bias=True)\n",
       "  )\n",
       ")"
      ]
     },
     "execution_count": 10,
     "metadata": {},
     "output_type": "execute_result"
    }
   ],
   "source": [
    "trainer.model"
   ]
  },
  {
   "cell_type": "markdown",
   "metadata": {},
   "source": [
    "We briefly inspect the q values of the reflectivity curves:"
   ]
  },
  {
   "cell_type": "code",
   "execution_count": 11,
   "metadata": {
    "tags": [
     "scroll-output"
    ]
   },
   "outputs": [
    {
     "name": "stdout",
     "output_type": "stream",
     "text": [
      "torch.Size([64, 190])"
     ]
    },
    {
     "name": "stdout",
     "output_type": "stream",
     "text": [
      "\n",
      "tensor([0.0254, 0.0265, 0.0275, 0.0285, 0.0296, 0.0306, 0.0317, 0.0327, 0.0337,\n",
      "        0.0348, 0.0358, 0.0368, 0.0379, 0.0389, 0.0399, 0.0410, 0.0420, 0.0431,\n",
      "        0.0441, 0.0451, 0.0462, 0.0472, 0.0482, 0.0493, 0.0503, 0.0513, 0.0524,\n",
      "        0.0534, 0.0544, 0.0555, 0.0565, 0.0576, 0.0586, 0.0596, 0.0607, 0.0617,\n",
      "        0.0627, 0.0638, 0.0648, 0.0658, 0.0669, 0.0679, 0.0690, 0.0700, 0.0710,\n",
      "        0.0721, 0.0731, 0.0741, 0.0752, 0.0762, 0.0772, 0.0783, 0.0793, 0.0803,\n",
      "        0.0814, 0.0824, 0.0835, 0.0845, 0.0855, 0.0866, 0.0876, 0.0886, 0.0897,\n",
      "        0.0907, 0.0917, 0.0928, 0.0938, 0.0948, 0.0959, 0.0969, 0.0980, 0.0990,\n",
      "        0.1000, 0.1011, 0.1021, 0.1031, 0.1042, 0.1052, 0.1062, 0.1073, 0.1083,\n",
      "        0.1094, 0.1104, 0.1114, 0.1125, 0.1135, 0.1145, 0.1156, 0.1166, 0.1176,\n",
      "        0.1187, 0.1197, 0.1207, 0.1218, 0.1228, 0.1239, 0.1249, 0.1259, 0.1270,\n",
      "        0.1280, 0.1290, 0.1301, 0.1311, 0.1321, 0.1332, 0.1342, 0.1353, 0.1363,\n",
      "        0.1373, 0.1384, 0.1394, 0.1404, 0.1415, 0.1425, 0.1435, 0.1446, 0.1456,\n",
      "        0.1466, 0.1477, 0.1487, 0.1498, 0.1508, 0.1518, 0.1529, 0.1539, 0.1549,\n",
      "        0.1560, 0.1570, 0.1580, 0.1591, 0.1601, 0.1611, 0.1622, 0.1632, 0.1643,\n",
      "        0.1653, 0.1663, 0.1674, 0.1684, 0.1694, 0.1705, 0.1715, 0.1725, 0.1736,\n",
      "        0.1746, 0.1757, 0.1767, 0.1777, 0.1788, 0.1798, 0.1808, 0.1819, 0.1829,\n",
      "        0.1839, 0.1850, 0.1860, 0.1870, 0.1881, 0.1891, 0.1902, 0.1912, 0.1922,\n",
      "        0.1933, 0.1943, 0.1953, 0.1964, 0.1974, 0.1984, 0.1995, 0.2005, 0.2015,\n",
      "        0.2026, 0.2036, 0.2047, 0.2057, 0.2067, 0.2078, 0.2088, 0.2098, 0.2109,\n",
      "        0.2119, 0.2129, 0.2140, 0.2150, 0.2161, 0.2171, 0.2181, 0.2192, 0.2202,\n",
      "        0.2212], device='cuda:0', dtype=torch.float64)\n",
      "tensor([0.0181, 0.0196, 0.0210, 0.0225, 0.0240, 0.0254, 0.0269, 0.0284, 0.0298,\n",
      "        0.0313, 0.0328, 0.0342, 0.0357, 0.0372, 0.0386, 0.0401, 0.0416, 0.0430,\n",
      "        0.0445, 0.0460, 0.0474, 0.0489, 0.0503, 0.0518, 0.0533, 0.0547, 0.0562,\n",
      "        0.0577, 0.0591, 0.0606, 0.0621, 0.0635, 0.0650, 0.0665, 0.0679, 0.0694,\n",
      "        0.0709, 0.0723, 0.0738, 0.0753, 0.0767, 0.0782, 0.0796, 0.0811, 0.0826,\n",
      "        0.0840, 0.0855, 0.0870, 0.0884, 0.0899, 0.0914, 0.0928, 0.0943, 0.0958,\n",
      "        0.0972, 0.0987, 0.1002, 0.1016, 0.1031, 0.1046, 0.1060, 0.1075, 0.1089,\n",
      "        0.1104, 0.1119, 0.1133, 0.1148, 0.1163, 0.1177, 0.1192, 0.1207, 0.1221,\n",
      "        0.1236, 0.1251, 0.1265, 0.1280, 0.1295, 0.1309, 0.1324, 0.1339, 0.1353,\n",
      "        0.1368, 0.1382, 0.1397, 0.1412, 0.1426, 0.1441, 0.1456, 0.1470, 0.1485,\n",
      "        0.1500, 0.1514, 0.1529, 0.1544, 0.1558, 0.1573, 0.1588, 0.1602, 0.1617,\n",
      "        0.1632, 0.1646, 0.1661, 0.1675, 0.1690, 0.1705, 0.1719, 0.1734, 0.1749,\n",
      "        0.1763, 0.1778, 0.1793, 0.1807, 0.1822, 0.1837, 0.1851, 0.1866, 0.1881,\n",
      "        0.1895, 0.1910, 0.1924, 0.1939, 0.1954, 0.1968, 0.1983, 0.1998, 0.2012,\n",
      "        0.2027, 0.2042, 0.2056, 0.2071, 0.2086, 0.2100, 0.2115, 0.2130, 0.2144,\n",
      "        0.2159, 0.2174, 0.2188, 0.2203, 0.2217, 0.2232, 0.2247, 0.2261, 0.2276,\n",
      "        0.2291, 0.2305, 0.2320, 0.2335, 0.2349, 0.2364, 0.2379, 0.2393, 0.2408,\n",
      "        0.2423, 0.2437, 0.2452, 0.2467, 0.2481, 0.2496, 0.2510, 0.2525, 0.2540,\n",
      "        0.2554, 0.2569, 0.2584, 0.2598, 0.2613, 0.2628, 0.2642, 0.2657, 0.2672,\n",
      "        0.2686, 0.2701, 0.2716, 0.2730, 0.2745, 0.2760, 0.2774, 0.2789, 0.2803,\n",
      "        0.2818, 0.2833, 0.2847, 0.2862, 0.2877, 0.2891, 0.2906, 0.2921, 0.2935,\n",
      "        0.2950], device='cuda:0', dtype=torch.float64)\n"
     ]
    }
   ],
   "source": [
    "batch_size = 64\n",
    "simulated_data = trainer.loader.get_batch(batch_size)\n",
    "q = simulated_data[\"q_values\"]\n",
    "\n",
    "print(q.shape) # (batch_size, num_points), num_points constant within one batch and variable between batches\n",
    "print(q[0, :]) #q values for first curve in the batch\n",
    "print(q[1, :]) #q values for second curve in the batch"
   ]
  },
  {
   "cell_type": "markdown",
   "metadata": {
    "tags": []
   },
   "source": [
    "At inference time, the input to the network also includes the q values:\n",
    "\n",
    "```python\n",
    "scaled_input = torch.cat([scaled_noisy_curves, scaled_bounds], dim=-1).float()\n",
    "with torch.no_grad():\n",
    "    trainer.model.eval()\n",
    "    scaled_predicted_params = trainer.model(scaled_input, q) #the q values are the second argument of the network\n",
    "```"
   ]
  }
 ],
 "metadata": {
  "kernelspec": {
   "display_name": "Python 3",
   "language": "python",
   "name": "python3"
  },
  "language_info": {
   "codemirror_mode": {
    "name": "ipython",
    "version": 3
   },
   "file_extension": ".py",
   "mimetype": "text/x-python",
   "name": "python",
   "nbconvert_exporter": "python",
   "pygments_lexer": "ipython3",
   "version": "3.9.5"
  },
  "toc-autonumbering": false,
  "toc-showmarkdowntxt": false,
  "toc-showtags": false,
  "widgets": {
   "application/vnd.jupyter.widget-state+json": {
    "state": {},
    "version_major": 2,
    "version_minor": 0
   }
  }
 },
 "nbformat": 4,
 "nbformat_minor": 4
}
