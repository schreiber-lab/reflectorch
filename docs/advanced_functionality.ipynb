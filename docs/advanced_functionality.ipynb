{
 "cells": [
  {
   "cell_type": "markdown",
   "metadata": {},
   "source": [
    "# Advanced functionality\n"
   ]
  },
  {
   "cell_type": "code",
   "execution_count": 29,
   "metadata": {
    "tags": []
   },
   "outputs": [],
   "source": [
    "import numpy as np\n",
    "import torch\n",
    "import matplotlib.pyplot as plt\n",
    "\n",
    "from reflectorch import *\n",
    "from reflectorch.extensions.jupyter import JPlotLoss\n",
    "\n",
    "torch.manual_seed(0); # set seed for reproducibility"
   ]
  },
  {
   "cell_type": "markdown",
   "metadata": {},
   "source": [
    "## Model with absorption"
   ]
  },
  {
   "cell_type": "markdown",
   "metadata": {},
   "source": [
    "The default box model parameterization of the SLD profile presented in the previous sections takes into account only the real part of the SLD profile but neglects the imaginary part of the SLD which is related to the absorption of the scattering medium. While this is a reasonable approximation in many use cases, in `reflectorch` we are able to alter the parameterization of the SLD profile as to also incorporate the constant imaginary SLD value of each layer."
   ]
  },
  {
   "cell_type": "markdown",
   "metadata": {},
   "source": [
    "We can initialize a reflectorch model with absorption by making the following changes to the YAML configuration file:"
   ]
  },
  {
   "cell_type": "markdown",
   "metadata": {},
   "source": [
    " 1. Firstly, we set the `model_name` argument of the prior sampler to `model_with_absorption` instead of `standard_model`. In addition, the parameter range and bound width range of the imaginary layer SLDs (`islds`) must be specified.  "
   ]
  },
  {
   "cell_type": "markdown",
   "metadata": {
    "tags": []
   },
   "source": [
    "```{code-block} yaml\n",
    ":emphasize-lines: 9,14,15\n",
    "\n",
    "dset:\n",
    "  prior_sampler:\n",
    "    cls: SubpriorParametricSampler\n",
    "    kwargs:\n",
    "      param_ranges:\n",
    "        thicknesses: [0., 300.]\n",
    "        roughnesses: [0., 20.]\n",
    "        slds: [0., 50.]\n",
    "        islds: [0., 5.]\n",
    "      bound_width_ranges:\n",
    "        thicknesses: [ 1.0e-2, 300.]\n",
    "        roughnesses: [ 1.0e-2, 20.]\n",
    "        slds: [ 1.0e-2, 10.]\n",
    "        islds: [ 1.0e-2, 5.]\n",
    "      model_name: model_with_absorption\n",
    "      max_num_layers: 2\n",
    "      constrained_roughness: true\n",
    "      max_thickness_share: 0.5\n",
    "      logdist: false\n",
    "```"
   ]
  },
  {
   "cell_type": "markdown",
   "metadata": {},
   "source": [
    "2. For the 2-layer box model parameterization of the SLD profile without absorption, the neural network had to predict 8 values (2 thicknesses, 3 roughnesses, 3 real layer SLDs). When absorption is considered, we have 3 additional output values (the imaginary layer SLDs), summing up to a total of 11. The computation for a higher number of layers is analogous. Thus the neural network architecture must also reflect theses changes in the input and output dimensionalities: in this example the `dim_out` key is set to 11."
   ]
  },
  {
   "cell_type": "markdown",
   "metadata": {},
   "source": [
    "```{code-block} yaml\n",
    ":emphasize-lines: 12\n",
    "\n",
    "model:\n",
    "  encoder:\n",
    "    cls: PriorInformedNetworkConvEmb\n",
    "    pretrained_name: null\n",
    "    kwargs:\n",
    "      in_channels: 1\n",
    "      hidden_channels: [32, 64, 128, 256, 512]\n",
    "      dim_embedding: 128\n",
    "      dim_avpool: 1\n",
    "      embedding_net_activation: 'gelu'\n",
    "      use_batch_norm: true\n",
    "      dim_out: 11\n",
    "      layer_width: 512\n",
    "      num_blocks: 6\n",
    "      repeats_per_block: 2\n",
    "      mlp_activation: 'gelu'\n",
    "      dropout_rate: 0.0 \n",
    "      pretrained_embedding_net: null\n",
    "```"
   ]
  },
  {
   "cell_type": "markdown",
   "metadata": {},
   "source": [
    "We initialize a model with absorption from a suitable configuration file."
   ]
  },
  {
   "cell_type": "code",
   "execution_count": 2,
   "metadata": {
    "tags": []
   },
   "outputs": [
    {
     "name": "stdout",
     "output_type": "stream",
     "text": [
      "Model c_absorption.yaml loaded. Number of parameters: 3.84 M\n"
     ]
    }
   ],
   "source": [
    "trainer = get_trainer_by_name(config_name='c_absorption.yaml', load_weights=False)"
   ]
  },
  {
   "cell_type": "code",
   "execution_count": 3,
   "metadata": {
    "tags": []
   },
   "outputs": [
    {
     "name": "stdout",
     "output_type": "stream",
     "text": [
      "Number of layers: 2,  Number of film parameters: 11\n",
      "torch.complex128\n"
     ]
    }
   ],
   "source": [
    "simulated_data = trainer.loader.get_batch(batch_size=64)\n",
    "\n",
    "n_layers = simulated_data['params'].max_layer_num\n",
    "n_params = simulated_data['params'].num_params\n",
    "\n",
    "print(f'Number of layers: {n_layers},  Number of film parameters: {n_params}')\n",
    "print(simulated_data['params'].slds.dtype)"
   ]
  },
  {
   "cell_type": "markdown",
   "metadata": {},
   "source": [
    "We observe that the `slds` tensor is of complex type now."
   ]
  },
  {
   "cell_type": "markdown",
   "metadata": {},
   "source": [
    "The absorption leads to a change in the shape of the total reflection edge."
   ]
  },
  {
   "cell_type": "code",
   "execution_count": 14,
   "metadata": {
    "tags": []
   },
   "outputs": [
    {
     "data": {
      "text/plain": [
       "<matplotlib.collections.PathCollection at 0x7f7e500d3100>"
      ]
     },
     "execution_count": 14,
     "metadata": {},
     "output_type": "execute_result"
    },
    {
     "data": {
      "image/png": "[encoded data removed]",
      "text/plain": [
       "<Figure size 600x600 with 1 Axes>"
      ]
     },
     "metadata": {},
     "output_type": "display_data"
    }
   ],
   "source": [
    "q = to_np(simulated_data['q_values'])[0]\n",
    "scaled_noisy_curves = simulated_data['scaled_noisy_curves']\n",
    "\n",
    "i = 11\n",
    "\n",
    "fig, ax = plt.subplots(1,1,figsize=(6,6))\n",
    "ax.set_ylim(-1.1, 1.1)\n",
    "ax.set_xlabel('q [$Å^{-1}$]', fontsize=18)\n",
    "ax.set_ylabel('R$_{scaled}$ (q)', fontsize=18)\n",
    "ax.tick_params(axis='both', which='major', labelsize=14)\n",
    "    \n",
    "ax.scatter(q, scaled_noisy_curves[i].cpu().numpy(), c='blue', s=2.0)"
   ]
  },
  {
   "cell_type": "markdown",
   "metadata": {},
   "source": [
    "The imaginary part of the SLD can be constrained during sampling as to not exceed a predefined fraction of the real part of the SLD."
   ]
  },
  {
   "cell_type": "code",
   "execution_count": null,
   "metadata": {},
   "outputs": [],
   "source": []
  },
  {
   "cell_type": "markdown",
   "metadata": {},
   "source": [
    "## Alternative parameterizations of the SLD profile\n",
    "\n",
    "In this section we describe alternative parameterizations of the SLD profile implementated into `reflectorch` (i.e. other than the standard box model parameterization)"
   ]
  },
  {
   "cell_type": "markdown",
   "metadata": {},
   "source": [
    "### Periodically repeating multilayer"
   ]
  },
  {
   "cell_type": "markdown",
   "metadata": {},
   "source": [
    "This SLD parameterization addresses the following commonly encountered scenario for thin films. On top of a silicon/silicon oxide substrate we consider a thin film composed of repeating identical monolayers (grey curve in the figure), each monolayer consisting of two boxes with distinct SLDs. A sigmoid envelope modulating the SLD profile of the monolayers defines the film thickness and the roughness at the top interface (green curve in the figure). A second sigmoid envelope can be used to modulate the amplitude of the monolayer SLDs as a function of the displacement from the position\n",
    "of the first sigmoid (red curve in the figure). These two sigmoids allow one to model a thin film that is coherently ordered up to a certain coherent thickness and gets incoherently ordered or amorphous toward the top of the film. In addition, a layer between the substrate and the multilayer (i.e. ”phase layer”) is introduced to account for the interface structure, which does not necessarily have to be identical to the multilayer period."
   ]
  },
  {
   "cell_type": "markdown",
   "metadata": {},
   "source": [
    "```{figure} sketch_multilayer_0.png\n",
    ":scale: 50\n",
    ":align: center\n",
    ":name: figure_multilayer\n",
    "SLD parameterization of a periodically repeating multilayer\n",
    "```"
   ]
  },
  {
   "cell_type": "markdown",
   "metadata": {},
   "source": [
    "This parameterization contains 17 film parameters, their physical description together with their corresponding alias in the YAML configuration file being shown in the following table:"
   ]
  },
  {
   "cell_type": "markdown",
   "metadata": {
    "tags": []
   },
   "source": [
    "| **Parameter description** | **Parameter alias in the configuration file** |\n",
    "|---------------|---------------------|\n",
    "| monolayer thickness (i.e. two boxes stacked together) | d_block |\n",
    "| relative roughness of the monolayer interfaces (wrt. the monolayer thickness) | s_block_rel |\n",
    "| SLD of the first box in the monolayer | r_block |\n",
    "| SLD difference between the second and the first box in the monolayer | dr |\n",
    "| fraction of the monolayer thickness belonging to the first box | d_block1_rel |\n",
    "| roughness of the silicon substrate | s_si |\n",
    "| SLD of the silicon substrate | r_si |\n",
    "| thickness of the silicon oxide layer | d_sio2 |\n",
    "| roughness of the silicon oxide layer | s_sio2 |\n",
    "| SLD of the silicon oxide layer | r_sio2 |\n",
    "| SLD of the phase layer | r3 |\n",
    "| relative thickness of the phase layer (wrt. the monolayer thickness) | d3_rel |\n",
    "| relative roughness of the phase layer (wrt. the monolayer thickness) | s3_rel |\n",
    "| relative position of the first sigmoid (i.e. total film thickness) | d_full_rel |\n",
    "| relative width of the first sigmoid | rel_sigmas |\n",
    "| relative position of the second sigmoid (coherently ordered film thickness) | dr_sigmoid_rel_pos |\n",
    "| relative width of the second sigmoid | dr_sigmoid_rel_width |"
   ]
  },
  {
   "cell_type": "markdown",
   "metadata": {},
   "source": [
    "We can initialize a reflectorch model which uses this type of SLD parameterization by making the following changes to the YAML configuration file:"
   ]
  },
  {
   "cell_type": "markdown",
   "metadata": {},
   "source": [
    " 1. The definition of the prior sampler must be changed so that . In addition,the parameter ranges and bound width ranges for the 17 multilayer parameters must be specified (the above table shows the correspondance between the physical parameters and the corresponding YAML keys). Firstly, we set the `model_name` argument of the prior sampler to `model3` instead of `standard_model`, and the `max_num_layers` argument to a high value (such as 30)."
   ]
  },
  {
   "cell_type": "markdown",
   "metadata": {
    "tags": []
   },
   "source": [
    "```yaml\n",
    "dset:\n",
    "  prior_sampler:\n",
    "    cls: SubpriorParametricSampler\n",
    "    kwargs:\n",
    "      param_ranges:\n",
    "          d_full_rel: [0, 25]\n",
    "          rel_sigmas: [0, 5]\n",
    "          dr_sigmoid_rel_pos: [-10, 10]\n",
    "          dr_sigmoid_rel_width: [0, 20]\n",
    "          d_block1_rel: [0.01, 0.99]\n",
    "          d_block: [10, 20]\n",
    "          s_block_rel: [0., 0.3]\n",
    "          r_block: [0., 20.] \n",
    "          dr: [-10., 10.]\n",
    "          d3_rel: [0, 1] \n",
    "          s3_rel: [0, 1] \n",
    "          r3: [0., 25] \n",
    "          d_sio2: [0, 10] \n",
    "          s_sio2: [0, 10] \n",
    "          s_si: [0., 10] \n",
    "          r_sio2: [17., 19.]\n",
    "          r_si: [19., 21.]\n",
    "      bound_width_ranges:\n",
    "          d_full_rel: [0.1, 25]\n",
    "          rel_sigmas: [0.1, 5]\n",
    "          dr_sigmoid_rel_pos: [0.1, 20]\n",
    "          dr_sigmoid_rel_width: [0.1, 20]\n",
    "          d_block1_rel: [0.01, 1.0]\n",
    "          d_block: [0.1, 10.]\n",
    "          s_block_rel: [0.1, 0.3]\n",
    "          r_block: [0.1, 5.]\n",
    "          dr: [0.1, 5.]\n",
    "          d3_rel: [0.01, 1]\n",
    "          s3_rel: [0.01, 1]\n",
    "          r3: [0.01, 25]\n",
    "          d_sio2: [0.01, 10]\n",
    "          s_sio2: [0.01, 10]\n",
    "          s_si: [0.01, 10]\n",
    "          r_sio2: [0.01, 2]\n",
    "          r_si: [0.01, 2]\n",
    "      model_name: model3\n",
    "      max_num_layers: 30\n",
    "      logdist: false\n",
    "```"
   ]
  },
  {
   "cell_type": "markdown",
   "metadata": {},
   "source": [
    "2. The neural network architecture must be set up such that the `dim_out` key (i.e. the output dimension) is set to the number of predicted parameters (17)."
   ]
  },
  {
   "cell_type": "markdown",
   "metadata": {
    "tags": []
   },
   "source": [
    "```yaml\n",
    "\n",
    "model:\n",
    "  encoder:\n",
    "    cls: PriorInformedNetworkConvEmb\n",
    "    pretrained_name: null\n",
    "    kwargs:\n",
    "      in_channels: 1\n",
    "      hidden_channels: [32, 64, 128, 256, 512]\n",
    "      dim_embedding: 128\n",
    "      dim_avpool: 1\n",
    "      embedding_net_activation: 'gelu'\n",
    "      use_batch_norm: true\n",
    "      dim_out: 17\n",
    "      layer_width: 512\n",
    "      num_blocks: 6\n",
    "      repeats_per_block: 2\n",
    "      mlp_activation: 'gelu'\n",
    "      dropout_rate: 0.0 \n",
    "      pretrained_embedding_net: null\n",
    "```"
   ]
  },
  {
   "cell_type": "markdown",
   "metadata": {},
   "source": [
    "<!-- ```{figure} fig_reflectometry_embedding_networks.png\n",
    ":scale: 25 %\n",
    ":align: center\n",
    ":name: embedding_networks\n",
    "Embedding Networks\n",
    "``` -->"
   ]
  },
  {
   "cell_type": "code",
   "execution_count": null,
   "metadata": {},
   "outputs": [],
   "source": []
  },
  {
   "cell_type": "code",
   "execution_count": null,
   "metadata": {},
   "outputs": [],
   "source": []
  },
  {
   "cell_type": "code",
   "execution_count": null,
   "metadata": {},
   "outputs": [],
   "source": []
  },
  {
   "cell_type": "code",
   "execution_count": null,
   "metadata": {},
   "outputs": [],
   "source": []
  },
  {
   "cell_type": "code",
   "execution_count": null,
   "metadata": {},
   "outputs": [],
   "source": []
  },
  {
   "cell_type": "code",
   "execution_count": null,
   "metadata": {},
   "outputs": [],
   "source": []
  },
  {
   "cell_type": "code",
   "execution_count": null,
   "metadata": {},
   "outputs": [],
   "source": []
  },
  {
   "cell_type": "code",
   "execution_count": null,
   "metadata": {},
   "outputs": [],
   "source": []
  },
  {
   "cell_type": "code",
   "execution_count": null,
   "metadata": {},
   "outputs": [],
   "source": []
  },
  {
   "cell_type": "code",
   "execution_count": null,
   "metadata": {},
   "outputs": [],
   "source": []
  },
  {
   "cell_type": "code",
   "execution_count": null,
   "metadata": {},
   "outputs": [],
   "source": []
  },
  {
   "cell_type": "code",
   "execution_count": null,
   "metadata": {},
   "outputs": [],
   "source": []
  },
  {
   "cell_type": "code",
   "execution_count": null,
   "metadata": {},
   "outputs": [],
   "source": []
  },
  {
   "cell_type": "code",
   "execution_count": null,
   "metadata": {},
   "outputs": [],
   "source": []
  }
 ],
 "metadata": {
  "kernelspec": {
   "display_name": "Python 3",
   "language": "python",
   "name": "python3"
  },
  "language_info": {
   "codemirror_mode": {
    "name": "ipython",
    "version": 3
   },
   "file_extension": ".py",
   "mimetype": "text/x-python",
   "name": "python",
   "nbconvert_exporter": "python",
   "pygments_lexer": "ipython3",
   "version": "3.8.16"
  },
  "toc-autonumbering": false,
  "toc-showmarkdowntxt": false,
  "toc-showtags": false,
  "widgets": {
   "application/vnd.jupyter.widget-state+json": {
    "state": {},
    "version_major": 2,
    "version_minor": 0
   }
  }
 },
 "nbformat": 4,
 "nbformat_minor": 4
}
