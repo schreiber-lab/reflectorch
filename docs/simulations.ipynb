{
 "cells": [
  {
   "cell_type": "code",
   "execution_count": 13,
   "metadata": {},
   "outputs": [],
   "source": [
    "from reflectorch.data_generation.reflectivity import reflectivity, abeles, abeles_memory_eff, kinematical_approximation\n",
    "import torch"
   ]
  },
  {
   "cell_type": "code",
   "execution_count": 30,
   "metadata": {},
   "outputs": [],
   "source": [
    "thickness = torch.tensor([\n",
    "    [200.0],\n",
    "    [100.0],\n",
    "    [500.0],\n",
    "    ]) #units: Å\n",
    "\n",
    "roughness = torch.tensor([\n",
    "    [10.0],\n",
    "    [20.0],\n",
    "    [0.0],\n",
    "    ]) #units: Å\n",
    "\n",
    "sld = torch.tensor([\n",
    "    [15.0],\n",
    "    [30.0 + 1j*5],\n",
    "    [-5.0],\n",
    "    ]) #units: 10^(-6) Å^(-2)"
   ]
  },
  {
   "cell_type": "code",
   "execution_count": 31,
   "metadata": {},
   "outputs": [],
   "source": [
    "q_values = torch.linspace(0.02, 0.2, 128)\n",
    "\n",
    "reflectivity_curves = reflectivity(\n",
    "    q=q_values,\n",
    "    thickness=thickness,\n",
    "    roughness=roughness,\n",
    "    sld=sld,\n",
    "    log=True,\n",
    "    abeles_func=abeles,\n",
    ")"
   ]
  }
 ],
 "metadata": {
  "kernelspec": {
   "display_name": ".venv",
   "language": "python",
   "name": "python3"
  },
  "language_info": {
   "codemirror_mode": {
    "name": "ipython",
    "version": 3
   },
   "file_extension": ".py",
   "mimetype": "text/x-python",
   "name": "python",
   "nbconvert_exporter": "python",
   "pygments_lexer": "ipython3",
   "version": "3.8.16"
  }
 },
 "nbformat": 4,
 "nbformat_minor": 2
}
