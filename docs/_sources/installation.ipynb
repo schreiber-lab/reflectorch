{
 "cells": [
  {
   "cell_type": "markdown",
   "metadata": {
    "tags": []
   },
   "source": [
    "# Installation"
   ]
  },
  {
   "cell_type": "markdown",
   "metadata": {
    "vscode": {
     "languageId": "plaintext"
    }
   },
   "source": [
    "## Installation instructions"
   ]
  },
  {
   "cell_type": "markdown",
   "metadata": {
    "tags": []
   },
   "source": [
    "**Reflectorch** can be installed directly from the Python Packaging Index (PyPI) via the Python package installer `pip`. It is recommended to install the package in a virtual environment to avoid dependency conflicts and maintain a clean Python environment."
   ]
  },
  {
   "cell_type": "markdown",
   "metadata": {},
   "source": [
    "```bash\n",
    "pip install reflectorch\n",
    "```"
   ]
  },
  {
   "cell_type": "markdown",
   "metadata": {},
   "source": [
    "Additionally, one can clone the entire [Github](https://github.com/schreiber-lab/reflectorch) repository and install the package in editable mode:"
   ]
  },
  {
   "cell_type": "markdown",
   "metadata": {
    "tags": []
   },
   "source": [
    "```bash\n",
    "git clone https://github.com/schreiber-lab/reflectorch.git\n",
    "cd reflectorch\n",
    "pip install -e .\n",
    "```\n"
   ]
  },
  {
   "cell_type": "markdown",
   "metadata": {
    "tags": []
   },
   "source": [
    "For development purposes, the package can be installed together with the optional dependencies for building the distribution, testing and documentation:"
   ]
  },
  {
   "cell_type": "markdown",
   "metadata": {},
   "source": [
    "```bash\n",
    "git clone https://github.com/schreiber-lab/reflectorch.git\n",
    "pip install -e .[tests,docs,build]\n",
    "```"
   ]
  },
  {
   "cell_type": "markdown",
   "metadata": {},
   "source": [
    "### GPU support"
   ]
  },
  {
   "cell_type": "markdown",
   "metadata": {},
   "source": [
    "By default, installing Reflectorch via `pip` will install the CPU-only version of Pytorch. This is suitable for users without dedicated GPU hardware. If you have an NVIDIA GPU and want to leverage CUDA acceleration, you should manually install the appropriate CUDA-enabled version of Pytorch before installing Reflectorch. Refer to the [official PyTorch installation guide](https://pytorch.org/get-started/locally/) to select the correct command based on your system's CUDA version and operating system."
   ]
  },
  {
   "cell_type": "markdown",
   "metadata": {
    "tags": []
   },
   "source": [
    "## Package dependencies"
   ]
  },
  {
   "cell_type": "markdown",
   "metadata": {},
   "source": [
    "The package was tested for Python versions which are 3.7 or newer. The package has the following core dependencies, which are listed in `pyproject.toml` and installed automatically together with the package.\n",
    "\n",
    " - numpy\n",
    " - torch\n",
    " - scipy\n",
    " - tqdm\n",
    " - PyYAML\n",
    " - click\n",
    " - matplotlib\n",
    " - ipywidgets\n",
    " - huggingface_hub\n",
    " - safetensors\n",
    " - tensorboard"
   ]
  }
 ],
 "metadata": {
  "kernelspec": {
   "display_name": ".venv",
   "language": "python",
   "name": "python3"
  },
  "language_info": {
   "codemirror_mode": {
    "name": "ipython",
    "version": 3
   },
   "file_extension": ".py",
   "mimetype": "text/x-python",
   "name": "python",
   "nbconvert_exporter": "python",
   "pygments_lexer": "ipython3",
   "version": "3.9.5"
  },
  "widgets": {
   "application/vnd.jupyter.widget-state+json": {
    "state": {},
    "version_major": 2,
    "version_minor": 0
   }
  }
 },
 "nbformat": 4,
 "nbformat_minor": 4
}
