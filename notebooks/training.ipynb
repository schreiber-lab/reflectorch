{
 "cells": [
  {
   "cell_type": "markdown",
   "metadata": {
    "collapsed": false
   },
   "source": [
    "# Train models in jupyter notebook"
   ]
  },
  {
   "cell_type": "markdown",
   "metadata": {
    "collapsed": false
   },
   "source": [
    "## Alternatives: train from the terminal:\n",
    "\n",
    "After installing reflectorch by\n",
    "\n",
    "```\n",
    "cd reflectorch\n",
    "pip install -e .\n",
    "```\n",
    "\n",
    "And run\n",
    "```\n",
    "python -m reflectorch.train name_of_your_config\n",
    "```\n",
    "\n",
    "For training on a Maxwell cluster:\n",
    "\n",
    "```\n",
    "python -m reflectorch.train_on_cluster name_of_your_config\n",
    "```"
   ]
  },
  {
   "cell_type": "markdown",
   "metadata": {
    "collapsed": false
   },
   "source": [
    "## Train here"
   ]
  },
  {
   "cell_type": "markdown",
   "metadata": {
    "collapsed": false
   },
   "source": [
    "### Load trainer"
   ]
  },
  {
   "cell_type": "code",
   "execution_count": 1,
   "metadata": {
    "ExecuteTime": {
     "end_time": "2023-04-26T14:07:05.965216Z",
     "start_time": "2023-04-26T14:07:05.522568Z"
    },
    "collapsed": false
   },
   "outputs": [],
   "source": [
    "import matplotlib.pyplot as plt\n",
    "%matplotlib inline\n",
    "\n",
    "plt.rcParams['figure.dpi'] = 100\n",
    "plt.rcParams['figure.figsize'] = (10, 6)\n",
    "plt.rcParams['font.size'] = 16"
   ]
  },
  {
   "cell_type": "code",
   "execution_count": 2,
   "metadata": {
    "ExecuteTime": {
     "end_time": "2023-04-26T14:05:02.866155Z",
     "start_time": "2023-04-26T14:05:02.103438Z"
    },
    "collapsed": false
   },
   "outputs": [],
   "source": [
    "from reflectorch import *"
   ]
  },
  {
   "cell_type": "code",
   "execution_count": 3,
   "metadata": {
    "ExecuteTime": {
     "end_time": "2023-04-26T14:05:10.900832Z",
     "start_time": "2023-04-26T14:05:10.849396Z"
    },
    "collapsed": false
   },
   "outputs": [
    {
     "name": "stdout",
     "output_type": "stream",
     "text": [
      "Model l2q256_absorption_1 loaded. Number of parameters: 2.77 M\n"
     ]
    }
   ],
   "source": [
    "trainer = get_trainer_by_name('l2q256_absorption_1', load_weights=False)"
   ]
  },
  {
   "cell_type": "markdown",
   "metadata": {
    "collapsed": false
   },
   "source": [
    "### Generate data to look at it"
   ]
  },
  {
   "cell_type": "code",
   "execution_count": 4,
   "metadata": {
    "ExecuteTime": {
     "end_time": "2023-04-26T14:09:06.873327Z",
     "start_time": "2023-04-26T14:09:06.865490Z"
    },
    "collapsed": false
   },
   "outputs": [],
   "source": [
    "data = trainer.loader.get_batch(16)"
   ]
  },
  {
   "cell_type": "code",
   "execution_count": 6,
   "metadata": {
    "ExecuteTime": {
     "end_time": "2023-04-26T14:06:11.237508Z",
     "start_time": "2023-04-26T14:06:11.213462Z"
    },
    "collapsed": false
   },
   "outputs": [
    {
     "data": {
      "text/plain": [
       "tensor([[ 0.4837,  0.4885,  0.4851,  ..., -0.2548, -0.2687, -0.2808],\n",
       "        [ 0.4984,  0.4962,  0.4955,  ...,  0.1401,  0.1368,  0.1211],\n",
       "        [ 0.4907,  0.4935,  0.4875,  ...,  0.0850,  0.0876,  0.0797],\n",
       "        ...,\n",
       "        [ 0.4773,  0.4587,  0.4654,  ..., -0.1292, -0.1220, -0.1497],\n",
       "        [ 0.4924,  0.4991,  0.4955,  ...,  0.1346,  0.1437,  0.1319],\n",
       "        [ 0.4712,  0.4703,  0.4626,  ...,  0.1320,  0.1306,  0.1220]],\n",
       "       device='cuda:0', dtype=torch.float64)"
      ]
     },
     "execution_count": 6,
     "metadata": {},
     "output_type": "execute_result"
    }
   ],
   "source": [
    "data['scaled_noisy_curves']"
   ]
  },
  {
   "cell_type": "code",
   "execution_count": 25,
   "metadata": {
    "ExecuteTime": {
     "end_time": "2023-04-26T14:09:38.793712Z",
     "start_time": "2023-04-26T14:09:38.754192Z"
    },
    "collapsed": false
   },
   "outputs": [
    {
     "data": {
      "text/plain": [
       "dict_keys(['params', 'scaled_params', 'q_values', 'scaled_noisy_curves'])"
      ]
     },
     "execution_count": 25,
     "metadata": {},
     "output_type": "execute_result"
    }
   ],
   "source": [
    "data.keys()"
   ]
  },
  {
   "cell_type": "code",
   "execution_count": 28,
   "metadata": {
    "ExecuteTime": {
     "end_time": "2023-04-26T14:10:31.829599Z",
     "start_time": "2023-04-26T14:10:31.787813Z"
    },
    "collapsed": false
   },
   "outputs": [
    {
     "data": {
      "text/plain": [
       "torch.Size([16, 11])"
      ]
     },
     "execution_count": 28,
     "metadata": {},
     "output_type": "execute_result"
    }
   ],
   "source": [
    "data['params'].min_bounds.shape"
   ]
  },
  {
   "cell_type": "code",
   "execution_count": 29,
   "metadata": {
    "ExecuteTime": {
     "end_time": "2023-04-26T14:10:44.548309Z",
     "start_time": "2023-04-26T14:10:44.518035Z"
    },
    "collapsed": false
   },
   "outputs": [
    {
     "data": {
      "text/plain": [
       "torch.Size([16, 11])"
      ]
     },
     "execution_count": 29,
     "metadata": {},
     "output_type": "execute_result"
    }
   ],
   "source": [
    "data['params'].max_bounds.shape"
   ]
  },
  {
   "cell_type": "code",
   "execution_count": 30,
   "metadata": {
    "ExecuteTime": {
     "end_time": "2023-04-26T14:10:51.442506Z",
     "start_time": "2023-04-26T14:10:51.435259Z"
    },
    "collapsed": false
   },
   "outputs": [
    {
     "data": {
      "text/plain": [
       "torch.Size([16, 11])"
      ]
     },
     "execution_count": 30,
     "metadata": {},
     "output_type": "execute_result"
    }
   ],
   "source": [
    "data['params'].parameters.shape"
   ]
  },
  {
   "cell_type": "code",
   "execution_count": 32,
   "metadata": {
    "ExecuteTime": {
     "end_time": "2023-04-26T14:11:09.421799Z",
     "start_time": "2023-04-26T14:11:09.373611Z"
    },
    "collapsed": false
   },
   "outputs": [
    {
     "data": {
      "text/plain": [
       "(tensor([[107.2089, 279.7525],\n",
       "         [ 76.5930, 113.3578],\n",
       "         [ 44.2153, 179.4191],\n",
       "         [285.0251, 281.0495],\n",
       "         [182.2545, 187.9111],\n",
       "         [124.2139, 202.3760],\n",
       "         [ 84.9420, 181.5449],\n",
       "         [201.7252, 215.2941],\n",
       "         [253.7039, 227.9683],\n",
       "         [242.4407, 227.2404],\n",
       "         [246.6559, 238.9463],\n",
       "         [182.5407,   3.0906],\n",
       "         [235.6653,  12.6284],\n",
       "         [151.0319, 188.7432],\n",
       "         [109.4010,   6.8993],\n",
       "         [236.6787,  56.4952]], device='cuda:0', dtype=torch.float64),\n",
       " tensor([[36.6762, 16.4953, 20.3261],\n",
       "         [34.2549,  2.4727, 32.3022],\n",
       "         [ 8.1141, 26.3169, 16.9108],\n",
       "         [35.7232, 23.0821, 21.3446],\n",
       "         [ 9.9060, 30.6372, 14.3654],\n",
       "         [10.4239, 26.9326,  8.5304],\n",
       "         [17.9925, 27.9932, 29.2585],\n",
       "         [26.2682, 25.2877,  7.7263],\n",
       "         [18.9718, 38.9549, 37.9287],\n",
       "         [20.4378, 13.6549, 29.3978],\n",
       "         [ 3.0743, 19.5579, 30.2721],\n",
       "         [20.6129,  0.1587,  1.5042],\n",
       "         [34.8353,  1.8318,  4.2957],\n",
       "         [ 3.6961, 23.8647, 29.1872],\n",
       "         [11.3850,  0.8667,  1.2503],\n",
       "         [39.3041, 24.7445,  7.2094]], device='cuda:0', dtype=torch.float64),\n",
       " tensor([[36.4684+7.9829j, 49.8252+7.8796j,  8.5284+5.2828j],\n",
       "         [ 6.8285+7.9576j, 41.0740+3.0716j, 10.9810+7.4776j],\n",
       "         [31.0881+4.4107j, 31.2765+5.5421j, 36.2290+5.9015j],\n",
       "         [20.7336+6.9207j, 11.0340+9.5677j,  3.3459+2.8486j],\n",
       "         [45.4960+8.1744j, 26.0992+4.3881j,  5.5962+9.7853j],\n",
       "         [42.2366+8.6092j, 10.8473+7.1932j, 44.5986+5.0823j],\n",
       "         [ 5.5208+5.7064j, 47.8965+2.2475j, 12.3154+9.5173j],\n",
       "         [ 0.8347+8.5454j, 55.4421+5.7963j,  9.4568+0.2056j],\n",
       "         [54.4946+8.5129j,  7.9011+1.7693j, 10.7475+3.3977j],\n",
       "         [47.6116+7.3461j, 51.2297+3.6792j, 50.1320+8.3312j],\n",
       "         [20.0473+5.3720j, 47.5157+7.6683j, 56.3054+0.2186j],\n",
       "         [25.8981+6.1039j, 47.7109+8.4971j, 17.7423+1.7961j],\n",
       "         [42.2423+1.2627j, 33.2193+9.1399j, 51.2491+4.3713j],\n",
       "         [ 0.0570+3.6071j, 43.4514+4.2588j, 11.1359+2.2460j],\n",
       "         [31.4210+4.9103j,  7.8916+4.3069j, 17.9104+2.1794j],\n",
       "         [ 8.6300+2.5540j,  3.6806+2.9699j, 37.3770+1.5070j]], device='cuda:0',\n",
       "        dtype=torch.complex128))"
      ]
     },
     "execution_count": 32,
     "metadata": {},
     "output_type": "execute_result"
    }
   ],
   "source": [
    "data['params'].thicknesses, data['params'].roughnesses, data['params'].slds"
   ]
  },
  {
   "cell_type": "code",
   "execution_count": 15,
   "metadata": {
    "ExecuteTime": {
     "end_time": "2023-04-26T14:08:07.715504Z",
     "start_time": "2023-04-26T14:08:07.668763Z"
    },
    "collapsed": false
   },
   "outputs": [],
   "source": [
    "trainer.loader.intensity_noise??"
   ]
  },
  {
   "cell_type": "code",
   "execution_count": 40,
   "metadata": {
    "ExecuteTime": {
     "end_time": "2023-04-26T14:17:36.218396Z",
     "start_time": "2023-04-26T14:17:36.213432Z"
    },
    "collapsed": false
   },
   "outputs": [],
   "source": [
    "trainer.loader.intensity_noise.poisson_noise.relative_errors = [0.1, 0.1]"
   ]
  },
  {
   "cell_type": "code",
   "execution_count": 42,
   "metadata": {
    "ExecuteTime": {
     "end_time": "2023-04-26T14:17:47.165114Z",
     "start_time": "2023-04-26T14:17:47.151497Z"
    },
    "collapsed": false
   },
   "outputs": [],
   "source": [
    "data = trainer.loader.get_batch(16)\n"
   ]
  },
  {
   "cell_type": "code",
   "execution_count": 43,
   "metadata": {
    "ExecuteTime": {
     "end_time": "2023-04-26T14:17:50.346211Z",
     "start_time": "2023-04-26T14:17:50.254653Z"
    },
    "collapsed": false
   },
   "outputs": [
    {
     "data": {
      "text/plain": [
       "[<matplotlib.lines.Line2D at 0x7f218814bac8>]"
      ]
     },
     "execution_count": 43,
     "metadata": {},
     "output_type": "execute_result"
    },
    {
     "data": {
      "image/png": "[encoded data removed]",
      "text/plain": [
       "<Figure size 1000x600 with 1 Axes>"
      ]
     },
     "metadata": {},
     "output_type": "display_data"
    }
   ],
   "source": [
    "plt.plot(data['scaled_noisy_curves'][1].cpu().numpy())"
   ]
  },
  {
   "cell_type": "markdown",
   "metadata": {
    "collapsed": false
   },
   "source": [
    "### train"
   ]
  },
  {
   "cell_type": "code",
   "execution_count": 33,
   "metadata": {
    "ExecuteTime": {
     "end_time": "2023-04-26T14:11:50.317458Z",
     "start_time": "2023-04-26T14:11:50.273706Z"
    },
    "collapsed": false
   },
   "outputs": [],
   "source": [
    "from reflectorch.extensions.jupyter import JPlotLoss"
   ]
  },
  {
   "cell_type": "code",
   "execution_count": 38,
   "metadata": {
    "ExecuteTime": {
     "end_time": "2023-04-26T14:15:35.565854Z",
     "start_time": "2023-04-26T14:15:35.525234Z"
    },
    "collapsed": false
   },
   "outputs": [
    {
     "data": {
      "text/plain": [
       "PosixPath('/home/vladimir/PycharmProjects/giwaxs_detector/XRR ideas/reflectorch/saved_models')"
      ]
     },
     "execution_count": 38,
     "metadata": {},
     "output_type": "execute_result"
    }
   ],
   "source": [
    "SAVED_MODELS_DIR"
   ]
  },
  {
   "cell_type": "code",
   "execution_count": 44,
   "metadata": {
    "ExecuteTime": {
     "end_time": "2023-04-26T14:18:05.549722Z",
     "start_time": "2023-04-26T14:18:05.540175Z"
    },
    "collapsed": false
   },
   "outputs": [],
   "source": [
    "trainer.set_lr(1e-4)"
   ]
  },
  {
   "cell_type": "code",
   "execution_count": 45,
   "metadata": {
    "collapsed": false
   },
   "outputs": [
    {
     "data": {
      "image/png": "[encoded data removed]",
      "text/plain": [
       "<Figure size 1000x600 with 1 Axes>"
      ]
     },
     "metadata": {},
     "output_type": "display_data"
    },
    {
     "name": "stderr",
     "output_type": "stream",
     "text": [
      "Loss = 3.23e-01:  12%|█▏        | 232/2000 [00:49<06:15,  4.71it/s]\n"
     ]
    },
    {
     "ename": "KeyboardInterrupt",
     "evalue": "",
     "output_type": "error",
     "traceback": [
      "\u001b[0;31m---------------------------------------------------------------------------\u001b[0m",
      "\u001b[0;31mKeyboardInterrupt\u001b[0m                         Traceback (most recent call last)",
      "\u001b[0;32m/tmp/ipykernel_29528/2582043604.py\u001b[0m in \u001b[0;36m<module>\u001b[0;34m\u001b[0m\n\u001b[0;32m----> 1\u001b[0;31m \u001b[0mtrainer\u001b[0m\u001b[0;34m.\u001b[0m\u001b[0mtrain_epoch\u001b[0m\u001b[0;34m(\u001b[0m\u001b[0;36m2000\u001b[0m\u001b[0;34m,\u001b[0m \u001b[0mcallbacks\u001b[0m\u001b[0;34m=\u001b[0m\u001b[0;34m(\u001b[0m\u001b[0mJPlotLoss\u001b[0m\u001b[0;34m(\u001b[0m\u001b[0;36m50\u001b[0m\u001b[0;34m,\u001b[0m \u001b[0;34m)\u001b[0m\u001b[0;34m,\u001b[0m \u001b[0mStepLR\u001b[0m\u001b[0;34m(\u001b[0m\u001b[0;36m2000\u001b[0m\u001b[0;34m,\u001b[0m \u001b[0;36m0.9\u001b[0m\u001b[0;34m,\u001b[0m \u001b[0mlast_epoch\u001b[0m\u001b[0;34m=\u001b[0m\u001b[0;36m8000\u001b[0m\u001b[0;34m)\u001b[0m\u001b[0;34m,\u001b[0m \u001b[0mSaveBestModel\u001b[0m\u001b[0;34m(\u001b[0m\u001b[0mstr\u001b[0m\u001b[0;34m(\u001b[0m\u001b[0mSAVED_MODELS_DIR\u001b[0m \u001b[0;34m/\u001b[0m \u001b[0;34m'path.pt'\u001b[0m\u001b[0;34m)\u001b[0m\u001b[0;34m,\u001b[0m \u001b[0;36m50\u001b[0m\u001b[0;34m,\u001b[0m \u001b[0;34m)\u001b[0m\u001b[0;34m)\u001b[0m\u001b[0;34m)\u001b[0m\u001b[0;34m\u001b[0m\u001b[0;34m\u001b[0m\u001b[0m\n\u001b[0m",
      "\u001b[0;32m~/PycharmProjects/giwaxs_detector/XRR ideas/reflectorch/reflectorch/ml/basic_trainer.py\u001b[0m in \u001b[0;36mtrain_epoch\u001b[0;34m(self, num_batches, callbacks, disable_tqdm, update_tqdm_freq, grad_accumulation_steps)\u001b[0m\n\u001b[1;32m     89\u001b[0m             \u001b[0;32mfor\u001b[0m \u001b[0m_\u001b[0m \u001b[0;32min\u001b[0m \u001b[0mrange\u001b[0m\u001b[0;34m(\u001b[0m\u001b[0mgrad_accumulation_steps\u001b[0m\u001b[0;34m)\u001b[0m\u001b[0;34m:\u001b[0m\u001b[0;34m\u001b[0m\u001b[0;34m\u001b[0m\u001b[0m\n\u001b[1;32m     90\u001b[0m \u001b[0;34m\u001b[0m\u001b[0m\n\u001b[0;32m---> 91\u001b[0;31m                 \u001b[0mbatch_data\u001b[0m \u001b[0;34m=\u001b[0m \u001b[0mself\u001b[0m\u001b[0;34m.\u001b[0m\u001b[0mget_batch_by_idx\u001b[0m\u001b[0;34m(\u001b[0m\u001b[0mbatch_num\u001b[0m\u001b[0;34m)\u001b[0m\u001b[0;34m\u001b[0m\u001b[0;34m\u001b[0m\u001b[0m\n\u001b[0m\u001b[1;32m     92\u001b[0m                 \u001b[0mloss_dict\u001b[0m \u001b[0;34m=\u001b[0m \u001b[0mself\u001b[0m\u001b[0;34m.\u001b[0m\u001b[0mget_loss_dict\u001b[0m\u001b[0;34m(\u001b[0m\u001b[0mbatch_data\u001b[0m\u001b[0;34m)\u001b[0m\u001b[0;34m\u001b[0m\u001b[0;34m\u001b[0m\u001b[0m\n\u001b[1;32m     93\u001b[0m                 \u001b[0mloss\u001b[0m \u001b[0;34m=\u001b[0m \u001b[0msum\u001b[0m\u001b[0;34m(\u001b[0m\u001b[0mloss_dict\u001b[0m\u001b[0;34m.\u001b[0m\u001b[0mvalues\u001b[0m\u001b[0;34m(\u001b[0m\u001b[0;34m)\u001b[0m\u001b[0;34m)\u001b[0m \u001b[0;34m/\u001b[0m \u001b[0mgrad_accumulation_steps\u001b[0m\u001b[0;34m\u001b[0m\u001b[0;34m\u001b[0m\u001b[0m\n",
      "\u001b[0;32m~/PycharmProjects/giwaxs_detector/XRR ideas/reflectorch/reflectorch/ml/trainers.py\u001b[0m in \u001b[0;36mget_batch_by_idx\u001b[0;34m(self, batch_num)\u001b[0m\n\u001b[1;32m     23\u001b[0m \u001b[0;34m\u001b[0m\u001b[0m\n\u001b[1;32m     24\u001b[0m     \u001b[0;32mdef\u001b[0m \u001b[0mget_batch_by_idx\u001b[0m\u001b[0;34m(\u001b[0m\u001b[0mself\u001b[0m\u001b[0;34m,\u001b[0m \u001b[0mbatch_num\u001b[0m\u001b[0;34m:\u001b[0m \u001b[0mint\u001b[0m\u001b[0;34m)\u001b[0m\u001b[0;34m:\u001b[0m\u001b[0;34m\u001b[0m\u001b[0;34m\u001b[0m\u001b[0m\n\u001b[0;32m---> 25\u001b[0;31m         \u001b[0mbatch_data\u001b[0m \u001b[0;34m=\u001b[0m \u001b[0mself\u001b[0m\u001b[0;34m.\u001b[0m\u001b[0mloader\u001b[0m\u001b[0;34m.\u001b[0m\u001b[0mget_batch\u001b[0m\u001b[0;34m(\u001b[0m\u001b[0mself\u001b[0m\u001b[0;34m.\u001b[0m\u001b[0mbatch_size\u001b[0m\u001b[0;34m)\u001b[0m\u001b[0;34m\u001b[0m\u001b[0;34m\u001b[0m\u001b[0m\n\u001b[0m\u001b[1;32m     26\u001b[0m         \u001b[0;32mreturn\u001b[0m \u001b[0mself\u001b[0m\u001b[0;34m.\u001b[0m\u001b[0m_get_batch\u001b[0m\u001b[0;34m(\u001b[0m\u001b[0mbatch_data\u001b[0m\u001b[0;34m)\u001b[0m\u001b[0;34m\u001b[0m\u001b[0;34m\u001b[0m\u001b[0m\n\u001b[1;32m     27\u001b[0m \u001b[0;34m\u001b[0m\u001b[0m\n",
      "\u001b[0;32m~/PycharmProjects/giwaxs_detector/XRR ideas/reflectorch/reflectorch/data_generation/dataset.py\u001b[0m in \u001b[0;36mget_batch\u001b[0;34m(self, batch_size)\u001b[0m\n\u001b[1;32m     74\u001b[0m \u001b[0;34m\u001b[0m\u001b[0m\n\u001b[1;32m     75\u001b[0m         \u001b[0;32mif\u001b[0m \u001b[0mself\u001b[0m\u001b[0;34m.\u001b[0m\u001b[0mintensity_noise\u001b[0m\u001b[0;34m:\u001b[0m\u001b[0;34m\u001b[0m\u001b[0;34m\u001b[0m\u001b[0m\n\u001b[0;32m---> 76\u001b[0;31m             \u001b[0mnoisy_curves\u001b[0m \u001b[0;34m=\u001b[0m \u001b[0mself\u001b[0m\u001b[0;34m.\u001b[0m\u001b[0mintensity_noise\u001b[0m\u001b[0;34m(\u001b[0m\u001b[0mnoisy_curves\u001b[0m\u001b[0;34m,\u001b[0m \u001b[0mbatch_data\u001b[0m\u001b[0;34m)\u001b[0m\u001b[0;34m\u001b[0m\u001b[0;34m\u001b[0m\u001b[0m\n\u001b[0m\u001b[1;32m     77\u001b[0m \u001b[0;34m\u001b[0m\u001b[0m\n\u001b[1;32m     78\u001b[0m         \u001b[0mscaled_noisy_curves\u001b[0m \u001b[0;34m=\u001b[0m \u001b[0mself\u001b[0m\u001b[0;34m.\u001b[0m\u001b[0mcurves_scaler\u001b[0m\u001b[0;34m.\u001b[0m\u001b[0mscale\u001b[0m\u001b[0;34m(\u001b[0m\u001b[0mnoisy_curves\u001b[0m\u001b[0;34m)\u001b[0m\u001b[0;34m\u001b[0m\u001b[0;34m\u001b[0m\u001b[0m\n",
      "\u001b[0;32m~/PycharmProjects/giwaxs_detector/XRR ideas/reflectorch/reflectorch/data_generation/process_data.py\u001b[0m in \u001b[0;36m__call__\u001b[0;34m(self, args, context)\u001b[0m\n\u001b[1;32m     22\u001b[0m \u001b[0;34m\u001b[0m\u001b[0m\n\u001b[1;32m     23\u001b[0m     \u001b[0;32mdef\u001b[0m \u001b[0m__call__\u001b[0m\u001b[0;34m(\u001b[0m\u001b[0mself\u001b[0m\u001b[0;34m,\u001b[0m \u001b[0margs\u001b[0m\u001b[0;34m:\u001b[0m \u001b[0mAny\u001b[0m\u001b[0;34m,\u001b[0m \u001b[0mcontext\u001b[0m\u001b[0;34m:\u001b[0m \u001b[0mdict\u001b[0m \u001b[0;34m=\u001b[0m \u001b[0;32mNone\u001b[0m\u001b[0;34m)\u001b[0m\u001b[0;34m:\u001b[0m\u001b[0;34m\u001b[0m\u001b[0;34m\u001b[0m\u001b[0m\n\u001b[0;32m---> 24\u001b[0;31m         \u001b[0;32mreturn\u001b[0m \u001b[0mself\u001b[0m\u001b[0;34m.\u001b[0m\u001b[0mapply\u001b[0m\u001b[0;34m(\u001b[0m\u001b[0margs\u001b[0m\u001b[0;34m,\u001b[0m \u001b[0mcontext\u001b[0m\u001b[0;34m)\u001b[0m\u001b[0;34m\u001b[0m\u001b[0;34m\u001b[0m\u001b[0m\n\u001b[0m\u001b[1;32m     25\u001b[0m \u001b[0;34m\u001b[0m\u001b[0m\n\u001b[1;32m     26\u001b[0m     \u001b[0;32mdef\u001b[0m \u001b[0m__repr__\u001b[0m\u001b[0;34m(\u001b[0m\u001b[0mself\u001b[0m\u001b[0;34m)\u001b[0m\u001b[0;34m:\u001b[0m\u001b[0;34m\u001b[0m\u001b[0;34m\u001b[0m\u001b[0m\n",
      "\u001b[0;32m~/PycharmProjects/giwaxs_detector/XRR ideas/reflectorch/reflectorch/data_generation/noise.py\u001b[0m in \u001b[0;36mapply\u001b[0;34m(self, curves, context)\u001b[0m\n\u001b[1;32m    245\u001b[0m         \u001b[0;32mif\u001b[0m \u001b[0mself\u001b[0m\u001b[0;34m.\u001b[0m\u001b[0mshift_noise\u001b[0m\u001b[0;34m:\u001b[0m\u001b[0;34m\u001b[0m\u001b[0;34m\u001b[0m\u001b[0m\n\u001b[1;32m    246\u001b[0m             \u001b[0mcurves\u001b[0m \u001b[0;34m=\u001b[0m \u001b[0mself\u001b[0m\u001b[0;34m.\u001b[0m\u001b[0mshift_noise\u001b[0m\u001b[0;34m(\u001b[0m\u001b[0mcurves\u001b[0m\u001b[0;34m,\u001b[0m \u001b[0mcontext\u001b[0m\u001b[0;34m)\u001b[0m\u001b[0;34m\u001b[0m\u001b[0;34m\u001b[0m\u001b[0m\n\u001b[0;32m--> 247\u001b[0;31m         \u001b[0mcurves\u001b[0m \u001b[0;34m=\u001b[0m \u001b[0mself\u001b[0m\u001b[0;34m.\u001b[0m\u001b[0mpoisson_noise\u001b[0m\u001b[0;34m(\u001b[0m\u001b[0mcurves\u001b[0m\u001b[0;34m,\u001b[0m \u001b[0mcontext\u001b[0m\u001b[0;34m)\u001b[0m\u001b[0;34m\u001b[0m\u001b[0;34m\u001b[0m\u001b[0m\n\u001b[0m\u001b[1;32m    248\u001b[0m \u001b[0;34m\u001b[0m\u001b[0m\n\u001b[1;32m    249\u001b[0m         \u001b[0;32mreturn\u001b[0m \u001b[0mcurves\u001b[0m\u001b[0;34m\u001b[0m\u001b[0;34m\u001b[0m\u001b[0m\n",
      "\u001b[0;32m~/PycharmProjects/giwaxs_detector/XRR ideas/reflectorch/reflectorch/data_generation/process_data.py\u001b[0m in \u001b[0;36m__call__\u001b[0;34m(self, args, context)\u001b[0m\n\u001b[1;32m     22\u001b[0m \u001b[0;34m\u001b[0m\u001b[0m\n\u001b[1;32m     23\u001b[0m     \u001b[0;32mdef\u001b[0m \u001b[0m__call__\u001b[0m\u001b[0;34m(\u001b[0m\u001b[0mself\u001b[0m\u001b[0;34m,\u001b[0m \u001b[0margs\u001b[0m\u001b[0;34m:\u001b[0m \u001b[0mAny\u001b[0m\u001b[0;34m,\u001b[0m \u001b[0mcontext\u001b[0m\u001b[0;34m:\u001b[0m \u001b[0mdict\u001b[0m \u001b[0;34m=\u001b[0m \u001b[0;32mNone\u001b[0m\u001b[0;34m)\u001b[0m\u001b[0;34m:\u001b[0m\u001b[0;34m\u001b[0m\u001b[0;34m\u001b[0m\u001b[0m\n\u001b[0;32m---> 24\u001b[0;31m         \u001b[0;32mreturn\u001b[0m \u001b[0mself\u001b[0m\u001b[0;34m.\u001b[0m\u001b[0mapply\u001b[0m\u001b[0;34m(\u001b[0m\u001b[0margs\u001b[0m\u001b[0;34m,\u001b[0m \u001b[0mcontext\u001b[0m\u001b[0;34m)\u001b[0m\u001b[0;34m\u001b[0m\u001b[0;34m\u001b[0m\u001b[0m\n\u001b[0m\u001b[1;32m     25\u001b[0m \u001b[0;34m\u001b[0m\u001b[0m\n\u001b[1;32m     26\u001b[0m     \u001b[0;32mdef\u001b[0m \u001b[0m__repr__\u001b[0m\u001b[0;34m(\u001b[0m\u001b[0mself\u001b[0m\u001b[0;34m)\u001b[0m\u001b[0;34m:\u001b[0m\u001b[0;34m\u001b[0m\u001b[0;34m\u001b[0m\u001b[0m\n",
      "\u001b[0;32m~/PycharmProjects/giwaxs_detector/XRR ideas/reflectorch/reflectorch/data_generation/noise.py\u001b[0m in \u001b[0;36mapply\u001b[0;34m(self, curves, context)\u001b[0m\n\u001b[1;32m    143\u001b[0m             \u001b[0msigmas\u001b[0m \u001b[0;34m=\u001b[0m \u001b[0mself\u001b[0m\u001b[0;34m.\u001b[0m\u001b[0m_gen_consistent_sigmas\u001b[0m\u001b[0;34m(\u001b[0m\u001b[0mcurves\u001b[0m\u001b[0;34m)\u001b[0m\u001b[0;34m\u001b[0m\u001b[0;34m\u001b[0m\u001b[0m\n\u001b[1;32m    144\u001b[0m         \u001b[0;32melse\u001b[0m\u001b[0;34m:\u001b[0m\u001b[0;34m\u001b[0m\u001b[0;34m\u001b[0m\u001b[0m\n\u001b[0;32m--> 145\u001b[0;31m             \u001b[0msigmas\u001b[0m \u001b[0;34m=\u001b[0m \u001b[0mself\u001b[0m\u001b[0;34m.\u001b[0m\u001b[0m_gen_sigmas\u001b[0m\u001b[0;34m(\u001b[0m\u001b[0mcurves\u001b[0m\u001b[0;34m)\u001b[0m\u001b[0;34m\u001b[0m\u001b[0;34m\u001b[0m\u001b[0m\n\u001b[0m\u001b[1;32m    146\u001b[0m \u001b[0;34m\u001b[0m\u001b[0m\n\u001b[1;32m    147\u001b[0m         \u001b[0mintensities\u001b[0m \u001b[0;34m=\u001b[0m \u001b[0mcurves\u001b[0m \u001b[0;34m/\u001b[0m \u001b[0msigmas\u001b[0m \u001b[0;34m**\u001b[0m \u001b[0;36m2\u001b[0m\u001b[0;34m\u001b[0m\u001b[0;34m\u001b[0m\u001b[0m\n",
      "\u001b[0;32m~/PycharmProjects/giwaxs_detector/XRR ideas/reflectorch/reflectorch/data_generation/noise.py\u001b[0m in \u001b[0;36m_gen_sigmas\u001b[0;34m(self, curves)\u001b[0m\n\u001b[1;32m    168\u001b[0m                     \u001b[0mlog10\u001b[0m\u001b[0;34m(\u001b[0m\u001b[0mself\u001b[0m\u001b[0;34m.\u001b[0m\u001b[0mrelative_errors\u001b[0m\u001b[0;34m[\u001b[0m\u001b[0;36m1\u001b[0m\u001b[0;34m]\u001b[0m\u001b[0;34m)\u001b[0m \u001b[0;34m-\u001b[0m \u001b[0mlog10\u001b[0m\u001b[0;34m(\u001b[0m\u001b[0mself\u001b[0m\u001b[0;34m.\u001b[0m\u001b[0mrelative_errors\u001b[0m\u001b[0;34m[\u001b[0m\u001b[0;36m0\u001b[0m\u001b[0;34m]\u001b[0m\u001b[0;34m)\u001b[0m\u001b[0;34m\u001b[0m\u001b[0;34m\u001b[0m\u001b[0m\n\u001b[1;32m    169\u001b[0m             ) + log10(self.relative_errors[0])\n\u001b[0;32m--> 170\u001b[0;31m             \u001b[0mrel_err\u001b[0m \u001b[0;34m=\u001b[0m \u001b[0;36m10\u001b[0m \u001b[0;34m**\u001b[0m \u001b[0mrel_err\u001b[0m\u001b[0;34m\u001b[0m\u001b[0;34m\u001b[0m\u001b[0m\n\u001b[0m\u001b[1;32m    171\u001b[0m \u001b[0;34m\u001b[0m\u001b[0m\n\u001b[1;32m    172\u001b[0m         \u001b[0msigmas\u001b[0m \u001b[0;34m=\u001b[0m \u001b[0mcurves\u001b[0m \u001b[0;34m*\u001b[0m \u001b[0mrel_err\u001b[0m \u001b[0;34m+\u001b[0m \u001b[0mself\u001b[0m\u001b[0;34m.\u001b[0m\u001b[0mabs_errors\u001b[0m\u001b[0;34m\u001b[0m\u001b[0;34m\u001b[0m\u001b[0m\n",
      "\u001b[0;32m~/PycharmProjects/giwaxs_detector/XRR ideas/reflectorch/venv/lib/python3.7/site-packages/torch/_tensor.py\u001b[0m in \u001b[0;36mwrapped\u001b[0;34m(*args, **kwargs)\u001b[0m\n\u001b[1;32m     37\u001b[0m             \u001b[0;32mif\u001b[0m \u001b[0mhas_torch_function\u001b[0m\u001b[0;34m(\u001b[0m\u001b[0margs\u001b[0m\u001b[0;34m)\u001b[0m\u001b[0;34m:\u001b[0m\u001b[0;34m\u001b[0m\u001b[0;34m\u001b[0m\u001b[0m\n\u001b[1;32m     38\u001b[0m                 \u001b[0;32mreturn\u001b[0m \u001b[0mhandle_torch_function\u001b[0m\u001b[0;34m(\u001b[0m\u001b[0mwrapped\u001b[0m\u001b[0;34m,\u001b[0m \u001b[0margs\u001b[0m\u001b[0;34m,\u001b[0m \u001b[0;34m*\u001b[0m\u001b[0margs\u001b[0m\u001b[0;34m,\u001b[0m \u001b[0;34m**\u001b[0m\u001b[0mkwargs\u001b[0m\u001b[0;34m)\u001b[0m\u001b[0;34m\u001b[0m\u001b[0;34m\u001b[0m\u001b[0m\n\u001b[0;32m---> 39\u001b[0;31m             \u001b[0;32mreturn\u001b[0m \u001b[0mf\u001b[0m\u001b[0;34m(\u001b[0m\u001b[0;34m*\u001b[0m\u001b[0margs\u001b[0m\u001b[0;34m,\u001b[0m \u001b[0;34m**\u001b[0m\u001b[0mkwargs\u001b[0m\u001b[0;34m)\u001b[0m\u001b[0;34m\u001b[0m\u001b[0;34m\u001b[0m\u001b[0m\n\u001b[0m\u001b[1;32m     40\u001b[0m         \u001b[0;32mexcept\u001b[0m \u001b[0mTypeError\u001b[0m\u001b[0;34m:\u001b[0m\u001b[0;34m\u001b[0m\u001b[0;34m\u001b[0m\u001b[0m\n\u001b[1;32m     41\u001b[0m             \u001b[0;32mreturn\u001b[0m \u001b[0mNotImplemented\u001b[0m\u001b[0;34m\u001b[0m\u001b[0;34m\u001b[0m\u001b[0m\n",
      "\u001b[0;32m~/PycharmProjects/giwaxs_detector/XRR ideas/reflectorch/venv/lib/python3.7/site-packages/torch/_tensor.py\u001b[0m in \u001b[0;36m__rpow__\u001b[0;34m(self, other)\u001b[0m\n\u001b[1;32m    862\u001b[0m     \u001b[0;32mdef\u001b[0m \u001b[0m__rpow__\u001b[0m\u001b[0;34m(\u001b[0m\u001b[0mself\u001b[0m\u001b[0;34m,\u001b[0m \u001b[0mother\u001b[0m\u001b[0;34m)\u001b[0m\u001b[0;34m:\u001b[0m\u001b[0;34m\u001b[0m\u001b[0;34m\u001b[0m\u001b[0m\n\u001b[1;32m    863\u001b[0m         \u001b[0mdtype\u001b[0m \u001b[0;34m=\u001b[0m \u001b[0mtorch\u001b[0m\u001b[0;34m.\u001b[0m\u001b[0mresult_type\u001b[0m\u001b[0;34m(\u001b[0m\u001b[0mother\u001b[0m\u001b[0;34m,\u001b[0m \u001b[0mself\u001b[0m\u001b[0;34m)\u001b[0m\u001b[0;34m\u001b[0m\u001b[0;34m\u001b[0m\u001b[0m\n\u001b[0;32m--> 864\u001b[0;31m         \u001b[0;32mreturn\u001b[0m \u001b[0mtorch\u001b[0m\u001b[0;34m.\u001b[0m\u001b[0mtensor\u001b[0m\u001b[0;34m(\u001b[0m\u001b[0mother\u001b[0m\u001b[0;34m,\u001b[0m \u001b[0mdtype\u001b[0m\u001b[0;34m=\u001b[0m\u001b[0mdtype\u001b[0m\u001b[0;34m,\u001b[0m \u001b[0mdevice\u001b[0m\u001b[0;34m=\u001b[0m\u001b[0mself\u001b[0m\u001b[0;34m.\u001b[0m\u001b[0mdevice\u001b[0m\u001b[0;34m)\u001b[0m \u001b[0;34m**\u001b[0m \u001b[0mself\u001b[0m\u001b[0;34m\u001b[0m\u001b[0;34m\u001b[0m\u001b[0m\n\u001b[0m\u001b[1;32m    865\u001b[0m \u001b[0;34m\u001b[0m\u001b[0m\n\u001b[1;32m    866\u001b[0m     \u001b[0;34m@\u001b[0m\u001b[0m_handle_torch_function_and_wrap_type_error_to_not_implemented\u001b[0m\u001b[0;34m\u001b[0m\u001b[0;34m\u001b[0m\u001b[0m\n",
      "\u001b[0;31mKeyboardInterrupt\u001b[0m: "
     ]
    }
   ],
   "source": [
    "trainer.train(2000, callbacks=(JPlotLoss(50, ), StepLR(2000, 0.9, last_epoch=8000), SaveBestModel(str(SAVED_MODELS_DIR / 'l2q256_absorption_1.pt'), 50, )))"
   ]
  },
  {
   "cell_type": "code",
   "execution_count": 36,
   "metadata": {
    "ExecuteTime": {
     "end_time": "2023-04-26T14:13:44.230130Z",
     "start_time": "2023-04-26T14:13:44.185681Z"
    },
    "collapsed": false
   },
   "outputs": [],
   "source": [
    "trainer.set_lr(5e-4)"
   ]
  },
  {
   "cell_type": "markdown",
   "metadata": {
    "collapsed": false
   },
   "source": [
    "# test"
   ]
  },
  {
   "cell_type": "code",
   "execution_count": null,
   "metadata": {
    "collapsed": false
   },
   "outputs": [],
   "source": [
    "import torch"
   ]
  },
  {
   "cell_type": "code",
   "execution_count": 62,
   "metadata": {
    "ExecuteTime": {
     "end_time": "2023-04-26T14:23:53.327556Z",
     "start_time": "2023-04-26T14:23:53.313416Z"
    },
    "collapsed": false
   },
   "outputs": [],
   "source": [
    "data = trainer.loader.get_batch(16)  # generate a test batch of 16 samples"
   ]
  },
  {
   "cell_type": "code",
   "execution_count": 65,
   "metadata": {
    "ExecuteTime": {
     "end_time": "2023-04-26T14:24:34.210430Z",
     "start_time": "2023-04-26T14:24:34.166878Z"
    },
    "collapsed": false
   },
   "outputs": [],
   "source": [
    "scaled_target_params = trainer.loader.prior_sampler.scale_params(data['params'])  # scale target params and target bounds"
   ]
  },
  {
   "cell_type": "code",
   "execution_count": 66,
   "metadata": {
    "ExecuteTime": {
     "end_time": "2023-04-26T14:24:37.473385Z",
     "start_time": "2023-04-26T14:24:37.459857Z"
    },
    "collapsed": false
   },
   "outputs": [
    {
     "data": {
      "text/plain": [
       "torch.Size([16, 33])"
      ]
     },
     "execution_count": 66,
     "metadata": {},
     "output_type": "execute_result"
    }
   ],
   "source": [
    "scaled_target_params.shape"
   ]
  },
  {
   "cell_type": "code",
   "execution_count": 93,
   "metadata": {
    "ExecuteTime": {
     "end_time": "2023-04-26T14:32:45.012357Z",
     "start_time": "2023-04-26T14:32:44.997750Z"
    },
    "collapsed": false
   },
   "outputs": [
    {
     "data": {
      "text/plain": [
       "11"
      ]
     },
     "execution_count": 93,
     "metadata": {},
     "output_type": "execute_result"
    }
   ],
   "source": [
    "n = data['params'].num_params\n",
    "n"
   ]
  },
  {
   "cell_type": "code",
   "execution_count": 67,
   "metadata": {
    "ExecuteTime": {
     "end_time": "2023-04-26T14:25:18.325857Z",
     "start_time": "2023-04-26T14:25:18.282555Z"
    },
    "collapsed": false
   },
   "outputs": [],
   "source": [
    "scaled_params = scaled_target_params[..., :n]  # scaled target params\n",
    "scaled_bounds = scaled_target_params[..., n:]  # scaled target bounds"
   ]
  },
  {
   "cell_type": "code",
   "execution_count": null,
   "metadata": {
    "collapsed": false
   },
   "outputs": [],
   "source": []
  },
  {
   "cell_type": "markdown",
   "metadata": {
    "collapsed": false
   },
   "source": [
    "How to scale / restore curves?"
   ]
  },
  {
   "cell_type": "code",
   "execution_count": 96,
   "metadata": {
    "ExecuteTime": {
     "end_time": "2023-04-26T14:35:48.109089Z",
     "start_time": "2023-04-26T14:35:48.078035Z"
    },
    "collapsed": false
   },
   "outputs": [],
   "source": [
    "noisy_curves = trainer.loader.curves_scaler.restore(data['scaled_noisy_curves'])\n",
    "assert torch.allclose(data['scaled_noisy_curves'], trainer.loader.curves_scaler.scale(noisy_curves))"
   ]
  },
  {
   "cell_type": "markdown",
   "metadata": {
    "collapsed": false
   },
   "source": []
  },
  {
   "cell_type": "code",
   "execution_count": null,
   "metadata": {
    "collapsed": false
   },
   "outputs": [],
   "source": []
  },
  {
   "cell_type": "markdown",
   "metadata": {
    "collapsed": false
   },
   "source": [
    "The model receives as an input scaled curves and scaled bounds (prior knowledge). So we have to concatenate it:"
   ]
  },
  {
   "cell_type": "code",
   "execution_count": 69,
   "metadata": {
    "ExecuteTime": {
     "end_time": "2023-04-26T14:25:48.914001Z",
     "start_time": "2023-04-26T14:25:48.870002Z"
    },
    "collapsed": false
   },
   "outputs": [],
   "source": [
    "scaled_input = torch.cat([data['scaled_noisy_curves'], scaled_bounds], dim=-1)"
   ]
  },
  {
   "cell_type": "markdown",
   "metadata": {
    "collapsed": false
   },
   "source": [
    "Ok, let's get some predictions:"
   ]
  },
  {
   "cell_type": "code",
   "execution_count": 71,
   "metadata": {
    "ExecuteTime": {
     "end_time": "2023-04-26T14:26:06.201601Z",
     "start_time": "2023-04-26T14:26:06.155800Z"
    },
    "collapsed": false
   },
   "outputs": [],
   "source": [
    "with torch.no_grad():\n",
    "    trainer.model.eval()\n",
    "    scaled_predictions = trainer.model(scaled_input.float())"
   ]
  },
  {
   "cell_type": "code",
   "execution_count": 74,
   "metadata": {
    "ExecuteTime": {
     "end_time": "2023-04-26T14:26:48.492617Z",
     "start_time": "2023-04-26T14:26:48.471964Z"
    },
    "collapsed": false
   },
   "outputs": [],
   "source": [
    "scaled_predictions = torch.cat([scaled_predictions, scaled_bounds], dim=-1)"
   ]
  },
  {
   "cell_type": "code",
   "execution_count": 75,
   "metadata": {
    "ExecuteTime": {
     "end_time": "2023-04-26T14:26:58.332761Z",
     "start_time": "2023-04-26T14:26:58.323592Z"
    },
    "collapsed": false
   },
   "outputs": [],
   "source": [
    "restored_predictions = trainer.loader.prior_sampler.restore_params(scaled_predictions)"
   ]
  },
  {
   "cell_type": "code",
   "execution_count": 76,
   "metadata": {
    "ExecuteTime": {
     "end_time": "2023-04-26T14:27:01.989701Z",
     "start_time": "2023-04-26T14:27:01.948578Z"
    },
    "collapsed": false
   },
   "outputs": [
    {
     "data": {
      "text/plain": [
       "BasicParams(batch_size=16, max_layer_num=2, device=cuda:0)"
      ]
     },
     "execution_count": 76,
     "metadata": {},
     "output_type": "execute_result"
    }
   ],
   "source": [
    "restored_predictions"
   ]
  },
  {
   "cell_type": "code",
   "execution_count": 80,
   "metadata": {
    "ExecuteTime": {
     "end_time": "2023-04-26T14:27:37.442231Z",
     "start_time": "2023-04-26T14:27:37.428520Z"
    },
    "collapsed": false
   },
   "outputs": [
    {
     "data": {
      "text/plain": [
       "True"
      ]
     },
     "execution_count": 80,
     "metadata": {},
     "output_type": "execute_result"
    }
   ],
   "source": [
    "torch.allclose(restored_predictions.min_bounds, data['params'].min_bounds)"
   ]
  },
  {
   "cell_type": "code",
   "execution_count": 81,
   "metadata": {
    "ExecuteTime": {
     "end_time": "2023-04-26T14:27:53.861607Z",
     "start_time": "2023-04-26T14:27:53.856016Z"
    },
    "collapsed": false
   },
   "outputs": [
    {
     "data": {
      "text/plain": [
       "tensor([[-2.3761e-01, -1.4345e-01,  4.9694e-02, -2.8350e-02, -4.5447e-01,\n",
       "          5.6642e-03, -1.5084e-01, -3.2617e-04,  5.5438e-01,  9.1900e-03,\n",
       "         -6.4395e-03],\n",
       "        [-1.9933e+01,  6.4951e-03, -4.8713e-01,  1.9233e-01,  4.4179e-03,\n",
       "         -1.7175e-02,  4.2519e-03,  4.1519e-03,  1.6623e-02, -2.3594e-02,\n",
       "         -2.4575e-03],\n",
       "        [ 1.6159e+00,  1.3538e-03,  6.7444e-03,  4.2399e-02,  1.8735e-02,\n",
       "         -9.4798e-03,  1.8697e+00,  1.6597e-01, -3.5647e-01,  1.6935e+00,\n",
       "         -5.1368e-03],\n",
       "        [-9.9227e+00,  3.9176e-02,  3.0434e-03,  7.9222e-02,  2.7435e+00,\n",
       "         -7.8572e-01, -7.5917e-03,  9.7844e-02,  3.8075e-02,  2.5181e-02,\n",
       "         -4.8922e-03],\n",
       "        [ 7.0287e-02, -1.1708e-02,  1.1570e-02, -2.6384e+00, -2.0942e+00,\n",
       "          2.1116e-02,  1.5497e-02, -4.8139e-03,  8.3828e-02, -1.0895e-03,\n",
       "         -5.5909e-03],\n",
       "        [ 5.2893e+00, -2.4317e-03, -6.6289e-03,  7.0548e-02,  1.4787e-01,\n",
       "          1.1543e-01,  2.8180e-03,  4.3314e-01,  4.3723e-02,  3.6330e-03,\n",
       "          2.6848e-02],\n",
       "        [-3.3063e+00, -1.7404e+01,  1.0536e-01,  3.6458e-03, -6.7324e-03,\n",
       "         -1.4936e-03, -3.6837e-03, -6.7356e-02, -1.0247e-03, -3.1844e-01,\n",
       "         -8.9130e-02],\n",
       "        [-2.3918e-01, -5.2580e-02, -1.7941e-01, -2.0406e-03, -6.3427e-01,\n",
       "          5.6689e-03,  1.0548e-02,  4.7821e-03, -1.8200e-02,  8.9400e-01,\n",
       "          8.7523e-02],\n",
       "        [ 9.6705e-03,  1.5647e-02, -1.8482e-02,  7.3230e-03,  6.3030e-02,\n",
       "         -5.1594e-02, -1.0661e-02,  5.3014e-03,  7.0124e-03, -4.3024e-01,\n",
       "         -7.8210e-04],\n",
       "        [-1.0420e+00,  3.1390e+00, -3.8515e-01, -6.5614e-03, -2.0221e+00,\n",
       "         -5.3327e-01,  1.9790e-01, -4.7934e-01, -5.0936e-02,  3.5390e-02,\n",
       "          1.2800e-01],\n",
       "        [ 9.3488e+00, -1.6725e+00, -6.7789e-03, -1.8321e-02,  1.9199e-03,\n",
       "         -7.1803e-02, -1.5407e-02, -6.7771e-03, -1.3925e-01, -1.6802e-02,\n",
       "          9.2275e-02],\n",
       "        [ 1.4820e+01,  3.1865e-01, -8.1870e-01, -1.6753e-01,  5.2451e-02,\n",
       "         -2.3890e-02, -2.4316e-02,  5.7275e-01,  1.9033e-01, -4.1426e-06,\n",
       "          1.6205e-01],\n",
       "        [ 2.8649e+01,  6.4542e-02,  1.7351e-01, -7.9571e-01,  3.1444e+00,\n",
       "         -3.1574e-03, -2.9731e-03, -3.6599e-01,  9.3828e-02,  9.9799e-02,\n",
       "         -6.0504e-03],\n",
       "        [ 4.8738e+01, -1.5227e+01, -7.1162e-02, -1.4367e+00,  9.5966e-03,\n",
       "          5.6049e-01,  3.5460e-01, -6.3208e-02,  2.1948e-03,  2.3148e-03,\n",
       "          3.2372e-02],\n",
       "        [-6.9726e+00,  4.7981e-03, -4.0579e-02, -2.6464e-03,  2.3578e-01,\n",
       "         -1.5589e-02, -4.4289e-02,  7.3722e-01,  2.6265e-01, -2.8117e-01,\n",
       "         -1.1542e-01],\n",
       "        [-8.8689e-02, -6.8853e+01,  5.7328e-01,  1.6477e-02, -2.0130e-01,\n",
       "          7.0009e-02, -4.8998e-01,  3.2021e-02, -6.6820e-02, -1.7682e-03,\n",
       "         -1.3485e-02]], device='cuda:0', dtype=torch.float64)"
      ]
     },
     "execution_count": 81,
     "metadata": {},
     "output_type": "execute_result"
    }
   ],
   "source": [
    "restored_predictions.parameters - data['params'].parameters"
   ]
  },
  {
   "cell_type": "markdown",
   "metadata": {
    "collapsed": false
   },
   "source": [
    "Calculate curves from params:"
   ]
  },
  {
   "cell_type": "code",
   "execution_count": 85,
   "metadata": {
    "ExecuteTime": {
     "end_time": "2023-04-26T14:29:14.137688Z",
     "start_time": "2023-04-26T14:29:14.122562Z"
    },
    "collapsed": false
   },
   "outputs": [],
   "source": [
    "real_curves = data['params'].reflectivity(trainer.loader.q_generator.q)"
   ]
  },
  {
   "cell_type": "code",
   "execution_count": 82,
   "metadata": {
    "ExecuteTime": {
     "end_time": "2023-04-26T14:28:32.197932Z",
     "start_time": "2023-04-26T14:28:32.153758Z"
    },
    "collapsed": false
   },
   "outputs": [],
   "source": [
    "predicted_curves = restored_predictions.reflectivity(trainer.loader.q_generator.q)"
   ]
  },
  {
   "cell_type": "code",
   "execution_count": 83,
   "metadata": {
    "ExecuteTime": {
     "end_time": "2023-04-26T14:28:36.270485Z",
     "start_time": "2023-04-26T14:28:36.242077Z"
    },
    "collapsed": false
   },
   "outputs": [
    {
     "data": {
      "text/plain": [
       "torch.Size([16, 109])"
      ]
     },
     "execution_count": 83,
     "metadata": {},
     "output_type": "execute_result"
    }
   ],
   "source": [
    "predicted_curves.shape"
   ]
  },
  {
   "cell_type": "code",
   "execution_count": 98,
   "metadata": {
    "ExecuteTime": {
     "end_time": "2023-04-26T14:51:47.803488Z",
     "start_time": "2023-04-26T14:51:47.428423Z"
    },
    "collapsed": false
   },
   "outputs": [
    {
     "data": {
      "text/plain": [
       "[<matplotlib.lines.Line2D at 0x7f213cc59390>]"
      ]
     },
     "execution_count": 98,
     "metadata": {},
     "output_type": "execute_result"
    },
    {
     "data": {
      "image/png": "[encoded data removed]",
      "text/plain": [
       "<Figure size 1000x600 with 1 Axes>"
      ]
     },
     "metadata": {},
     "output_type": "display_data"
    }
   ],
   "source": [
    "idx = 2\n",
    "plt.semilogy(real_curves[idx].cpu().numpy())\n",
    "plt.semilogy(predicted_curves[idx].cpu().numpy())\n"
   ]
  },
  {
   "cell_type": "code",
   "execution_count": null,
   "metadata": {
    "collapsed": false
   },
   "outputs": [],
   "source": []
  }
 ],
 "metadata": {
  "kernelspec": {
   "display_name": "Python 3",
   "language": "python",
   "name": "python3"
  },
  "language_info": {
   "codemirror_mode": {
    "name": "ipython",
    "version": 3
   },
   "file_extension": ".py",
   "mimetype": "text/x-python",
   "name": "python",
   "nbconvert_exporter": "python",
   "pygments_lexer": "ipython3",
   "version": "3.9.5"
  }
 },
 "nbformat": 4,
 "nbformat_minor": 0
}
